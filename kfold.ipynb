{
  "nbformat": 4,
  "nbformat_minor": 0,
  "metadata": {
    "colab": {
      "provenance": []
    },
    "kernelspec": {
      "name": "python3",
      "display_name": "Python 3"
    },
    "language_info": {
      "name": "python"
    }
  },
  "cells": [
    {
      "cell_type": "code",
      "source": [
        "from numpy import mean\n",
        "from sklearn.datasets import make_classification\n",
        "from sklearn.model_selection import StratifiedKFold\n",
        "from sklearn.model_selection import cross_val_score\n",
        "from sklearn.linear_model import LogisticRegression\n",
        "from matplotlib import pyplot\n",
        "\n",
        "# create the dataset\n",
        "def get_dataset(n_samples=100):\n",
        "    X, y = make_classification(n_samples=n_samples, n_features=20, n_informative=15, n_redundant=5, random_state=1)\n",
        "    return X, y\n",
        "\n",
        "# retrieve the model to be evaluated\n",
        "def get_model():\n",
        "    model = LogisticRegression()\n",
        "    return model\n",
        "\n",
        "# evaluate the model using a given test condition\n",
        "def evaluate_model(cv, X, y):\n",
        "    # get the model\n",
        "    model = get_model()\n",
        "    # evaluate the model\n",
        "    scores = cross_val_score(model, X, y, scoring='accuracy', cv=cv, n_jobs=-1)\n",
        "    # return scores\n",
        "    return mean(scores), scores.min(), scores.max()\n",
        "\n",
        "# calculate the ideal test condition\n",
        "X, y = get_dataset()\n",
        "ideal, _, _ = evaluate_model(StratifiedKFold(n_splits=5, shuffle=True, random_state=1), X, y)\n",
        "print('Ideal: %.3f' % ideal)\n",
        "\n",
        "# define folds to test\n",
        "folds = range(2, 31)\n",
        "\n",
        "# record mean and min/max of each set of results\n",
        "means, mins, maxs = list(), list(), list()\n",
        "\n",
        "# evaluate each k value\n",
        "for k in folds:\n",
        "    # define the test condition\n",
        "    cv = StratifiedKFold(n_splits=k, shuffle=True, random_state=1)\n",
        "    # evaluate k value\n",
        "    k_mean, k_min, k_max = evaluate_model(cv, X, y)\n",
        "    # report performance\n",
        "    print('> folds=%d, accuracy=%.3f (%.3f,%.3f)' % (k, k_mean, k_min, k_max))\n",
        "    # store mean accuracy\n",
        "    means.append(k_mean)\n",
        "    # store min and max relative to the mean\n",
        "    mins.append(k_mean - k_min)\n",
        "    maxs.append(k_max - k_mean)\n",
        "\n",
        "# line plot of k mean values with min/max error bars\n",
        "pyplot.errorbar(folds, means, yerr=[mins, maxs], fmt='o')\n",
        "\n",
        "# plot the ideal case in a separate color\n",
        "pyplot.plot(folds, [ideal for _ in range(len(folds))], color='r')\n",
        "\n",
        "# show the plot\n",
        "pyplot.show()\n"
      ],
      "metadata": {
        "colab": {
          "base_uri": "https://localhost:8080/",
          "height": 951
        },
        "id": "pnk1xuoyRYcp",
        "outputId": "dd3d4613-8663-4412-e231-e6b78bc3ba00"
      },
      "execution_count": 3,
      "outputs": [
        {
          "output_type": "stream",
          "name": "stdout",
          "text": [
            "Ideal: 0.790\n",
            "> folds=2, accuracy=0.820 (0.820,0.820)\n",
            "> folds=3, accuracy=0.741 (0.676,0.788)\n",
            "> folds=4, accuracy=0.790 (0.760,0.800)\n",
            "> folds=5, accuracy=0.790 (0.700,0.850)\n",
            "> folds=6, accuracy=0.759 (0.562,0.875)\n",
            "> folds=7, accuracy=0.781 (0.500,0.929)\n",
            "> folds=8, accuracy=0.779 (0.583,0.923)\n",
            "> folds=9, accuracy=0.801 (0.667,1.000)\n",
            "> folds=10, accuracy=0.800 (0.600,0.900)\n",
            "> folds=11, accuracy=0.802 (0.556,1.000)\n",
            "> folds=12, accuracy=0.802 (0.625,0.875)\n",
            "> folds=13, accuracy=0.798 (0.571,1.000)\n",
            "> folds=14, accuracy=0.782 (0.571,1.000)\n",
            "> folds=15, accuracy=0.827 (0.500,1.000)\n",
            "> folds=16, accuracy=0.830 (0.500,1.000)\n",
            "> folds=17, accuracy=0.818 (0.600,1.000)\n",
            "> folds=18, accuracy=0.809 (0.600,1.000)\n",
            "> folds=19, accuracy=0.800 (0.600,1.000)\n",
            "> folds=20, accuracy=0.810 (0.400,1.000)\n",
            "> folds=21, accuracy=0.819 (0.200,1.000)\n",
            "> folds=22, accuracy=0.823 (0.600,1.000)\n",
            "> folds=23, accuracy=0.833 (0.500,1.000)\n",
            "> folds=24, accuracy=0.810 (0.500,1.000)\n",
            "> folds=25, accuracy=0.830 (0.500,1.000)\n",
            "> folds=26, accuracy=0.827 (0.500,1.000)\n",
            "> folds=27, accuracy=0.815 (0.333,1.000)\n",
            "> folds=28, accuracy=0.827 (0.333,1.000)\n",
            "> folds=29, accuracy=0.830 (0.333,1.000)\n",
            "> folds=30, accuracy=0.833 (0.333,1.000)\n"
          ]
        },
        {
          "output_type": "display_data",
          "data": {
            "text/plain": [
              "<Figure size 640x480 with 1 Axes>"
            ],
            "image/png": "[encoded data removed]"
          },
          "metadata": {}
        }
      ]
    }
  ]
}