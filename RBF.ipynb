{
  "nbformat": 4,
  "nbformat_minor": 0,
  "metadata": {
    "colab": {
      "provenance": []
    },
    "kernelspec": {
      "name": "python3",
      "display_name": "Python 3"
    },
    "language_info": {
      "name": "python"
    }
  },
  "cells": [
    {
      "cell_type": "code",
      "execution_count": 2,
      "metadata": {
        "colab": {
          "base_uri": "https://localhost:8080/"
        },
        "id": "V0cm9s1owpt-",
        "outputId": "c7db635d-1adb-4fed-c676-320caacfc316"
      },
      "outputs": [
        {
          "output_type": "stream",
          "name": "stdout",
          "text": [
            "Accuracy Score: 0.7\n"
          ]
        },
        {
          "output_type": "stream",
          "name": "stderr",
          "text": [
            "/usr/local/lib/python3.10/dist-packages/sklearn/cluster/_kmeans.py:870: FutureWarning: The default value of `n_init` will change from 10 to 'auto' in 1.4. Set the value of `n_init` explicitly to suppress the warning\n",
            "  warnings.warn(\n"
          ]
        }
      ],
      "source": [
        "import pandas as pd\n",
        "import numpy as np\n",
        "from sklearn.preprocessing import LabelEncoder, StandardScaler\n",
        "from sklearn.model_selection import train_test_split\n",
        "from sklearn.cluster import KMeans\n",
        "from sklearn.metrics import accuracy_score\n",
        "\n",
        "# Read the data\n",
        "Data = pd.read_csv(\"/content/Iris.csv\")\n",
        "Data\n",
        "# Separate features and target variable\n",
        "X = Data.drop(\"Species\", axis=1)\n",
        "y = Data[\"Species\"]\n",
        "\n",
        "# Encode the target variable\n",
        "y_encoded = LabelEncoder().fit_transform(y)\n",
        "\n",
        "# Split the data into training and testing sets\n",
        "X_train, X_test, y_train, y_test = train_test_split(X, y_encoded, test_size=0.33, random_state=4)\n",
        "\n",
        "# Scale the features\n",
        "scaler = StandardScaler()\n",
        "X_train_scaled = scaler.fit_transform(X_train)\n",
        "X_test_scaled = scaler.transform(X_test)\n",
        "\n",
        "K_cent = 8\n",
        "km = KMeans(n_clusters=K_cent, max_iter=100)\n",
        "km.fit(X_train_scaled)\n",
        "cent = km.cluster_centers_\n",
        "\n",
        "# Compute sigma\n",
        "max_distance = 0\n",
        "for i in range(K_cent):\n",
        "    for j in range(K_cent):\n",
        "        distance = np.linalg.norm(cent[i] - cent[j])\n",
        "        if distance > max_distance:\n",
        "            max_distance = distance\n",
        "\n",
        "sigma = max_distance / np.sqrt(2 * K_cent)\n",
        "\n",
        "# Compute Gaussian kernel matrix for training data\n",
        "row_train = X_train_scaled.shape[0]\n",
        "column_train = K_cent\n",
        "G_train = np.empty((row_train, column_train), dtype=float)\n",
        "for i in range(row_train):\n",
        "    for j in range(column_train):\n",
        "        dist = np.linalg.norm(X_train_scaled[i] - cent[j])\n",
        "        G_train[i][j] = np.exp(-np.power(dist, 2) / np.power(2 * sigma, 2))\n",
        "\n",
        "# Compute Gaussian kernel matrix for testing data\n",
        "row_test = X_test_scaled.shape[0]\n",
        "column_test = K_cent\n",
        "G_test = np.empty((row_test, column_test), dtype=float)\n",
        "for i in range(row_test):\n",
        "    for j in range(column_test):\n",
        "        dist = np.linalg.norm(X_test_scaled[i] - cent[j])\n",
        "        G_test[i][j] = np.exp(-np.power(dist, 2) / np.power(2 * sigma, 2))\n",
        "\n",
        "# Compute pseudo-inverse of GTG\n",
        "GTG = np.dot(G_train.T, G_train)\n",
        "GTG_inv = np.linalg.inv(GTG)\n",
        "fac = np.dot(GTG_inv, G_train.T)\n",
        "\n",
        "# Compute weights\n",
        "W = np.dot(fac, y_train)\n",
        "\n",
        "# Predict on test data\n",
        "prediction = np.dot(G_test, W)\n",
        "prediction = 0.5 * (np.sign(prediction - 0.5) + 1)\n",
        "\n",
        "# Calculate accuracy\n",
        "score = accuracy_score(prediction, y_test)\n",
        "print(\"Accuracy Score:\", score)\n"
      ]
    }
  ]
}