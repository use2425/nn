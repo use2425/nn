{
 "cells": [
  {
   "cell_type": "code",
   "execution_count": 14,
   "id": "6f80ba3e",
   "metadata": {},
   "outputs": [
    {
     "name": "stdout",
     "output_type": "stream",
     "text": [
      "[[{'weights': [0.13436424411240122, 0.8474337369372327, 0.763774618976614]}], [{'weights': [0.2550690257394217, 0.49543508709194095]}, {'weights': [0.4494910647887381, 0.651592972722763]}]]\n",
      "[0.6629970129852887, 0.7253160725279748]\n"
     ]
    }
   ],
   "source": [
    "from random import random, seed\n",
    "from math import exp\n",
    "\n",
    "seed(1)\n",
    "\n",
    "def initialize_network(n_inputs, n_hidden, n_outputs):\n",
    "    return [[{'weights': [random() for _ in range(n + 1)]} for _ in range(size)] for n, size in zip([n_inputs] + [n_hidden] * 2, [n_hidden] + [n_outputs])]\n",
    "\n",
    "def activate(weights, inputs):\n",
    "    return weights[-1] + sum(w * i for w, i in zip(weights[:-1], inputs))\n",
    "\n",
    "def transfer(activation):\n",
    "    return 1 / (1 + exp(-activation))\n",
    "\n",
    "def forward_propagate(network, row):\n",
    "    for layer in network:\n",
    "        row = [transfer(activate(neuron['weights'], row)) for neuron in layer]\n",
    "    return row\n",
    "\n",
    "network = initialize_network(2, 1, 2)\n",
    "print(network)\n",
    "print(forward_propagate(network, [1, 0]))\n"
   ]
  },
  {
   "cell_type": "code",
   "execution_count": 12,
   "id": "755986ac",
   "metadata": {},
   "outputs": [],
   "source": [
    "def backward_propagate_error(network, expected):\n",
    " for i in reversed(range(len(network))):\n",
    "  layer = network[i]\n",
    "  errors = list()\n",
    "  if i != len(network)-1:\n",
    "    for j in range(len(layer)):\n",
    "      error = 0.0\n",
    "      for neuron in network[i + 1]:\n",
    "        error += (neuron['weights'][j] * neuron['delta'])\n",
    "        errors.append(error)\n",
    "  else:\n",
    "    for j in range(len(layer)):\n",
    "      neuron = layer[j]\n",
    "      errors.append(neuron['output'] - expected[j])\n",
    "  for j in range(len(layer)):\n",
    "    neuron = layer[j]\n",
    "    neuron['delta'] = errors[j] * transfer_derivative(neuron['output'])\n",
    "  "
   ]
  },
  {
   "cell_type": "code",
   "execution_count": 13,
   "id": "d6be3e1e",
   "metadata": {},
   "outputs": [
    {
     "name": "stdout",
     "output_type": "stream",
     "text": [
      "[{'output': 0.7105668883115941, 'weights': [0.13436424411240122, 0.8474337369372327, 0.763774618976614], 'delta': 0.007668854370284511}]\n",
      "[{'output': 0.6213859615555266, 'weights': [0.2550690257394217, 0.49543508709194095], 'delta': 0.14619064683582808}, {'output': 0.6573693455986976, 'weights': [0.4494910647887381, 0.651592972722763], 'delta': -0.0771723774346327}]\n"
     ]
    }
   ],
   "source": [
    "network = [[{'output': 0.7105668883115941, 'weights': [0.13436424411240122, 0.8474337369372327, 0.763774618976614]}],\n",
    " [{'output': 0.6213859615555266, 'weights': [0.2550690257394217, 0.49543508709194095]}, {'output': 0.6573693455986976, 'weights': [0.4494910647887381, 0.651592972722763]}]]\n",
    "expected = [0, 1]\n",
    "backward_propagate_error(network, expected)\n",
    "for layer in network:\n",
    " print(layer)"
   ]
  }
 ],
 "metadata": {
  "kernelspec": {
   "display_name": "Python 3 (ipykernel)",
   "language": "python",
   "name": "python3"
  },
  "language_info": {
   "codemirror_mode": {
    "name": "ipython",
    "version": 3
   },
   "file_extension": ".py",
   "mimetype": "text/x-python",
   "name": "python",
   "nbconvert_exporter": "python",
   "pygments_lexer": "ipython3",
   "version": "3.11.4"
  }
 },
 "nbformat": 4,
 "nbformat_minor": 5
}
