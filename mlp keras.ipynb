{
  "cells": [
    {
      "cell_type": "code",
      "execution_count": 16,
      "metadata": {
        "id": "O9AdpXsVJJWl"
      },
      "outputs": [],
      "source": [
        "#Dependencies\n",
        "import numpy as np\n",
        "import pandas as pd\n",
        "from sklearn.preprocessing import OneHotEncoder\n"
      ],
      "id": "O9AdpXsVJJWl"
    },
    {
      "cell_type": "code",
      "source": [
        "from google.colab import drive\n",
        "drive.mount('/content/drive')\n"
      ],
      "metadata": {
        "colab": {
          "base_uri": "https://localhost:8080/"
        },
        "id": "bBgGqsVUJLsg",
        "outputId": "c55bb75c-b07d-4907-e1a9-a16cd7cffbed"
      },
      "id": "bBgGqsVUJLsg",
      "execution_count": 17,
      "outputs": [
        {
          "output_type": "stream",
          "name": "stdout",
          "text": [
            "Drive already mounted at /content/drive; to attempt to forcibly remount, call drive.mount(\"/content/drive\", force_remount=True).\n"
          ]
        }
      ]
    },
    {
      "cell_type": "code",
      "execution_count": 18,
      "metadata": {
        "id": "hUp1LAc1JJWn"
      },
      "outputs": [],
      "source": [
        "path =\"drive/My Drive/Data/Bitcoin Trust/\"\n",
        "dataset = pd.read_csv(path+'NNInput.csv', header = None)"
      ],
      "id": "hUp1LAc1JJWn"
    },
    {
      "cell_type": "code",
      "execution_count": 19,
      "metadata": {
        "id": "PwM8vEqjJJWv"
      },
      "outputs": [],
      "source": [
        "#path =\"drive/My Drive/Data/Digg/\"\n",
        "#dataset = pd.read_csv(path+'NNInput.txt',sep = '\\t', header = None)\n",
        "#dataset = dataset.astype(int)"
      ],
      "id": "PwM8vEqjJJWv"
    },
    {
      "cell_type": "code",
      "execution_count": 20,
      "metadata": {
        "colab": {
          "base_uri": "https://localhost:8080/",
          "height": 206
        },
        "id": "tx_yHPebJJWw",
        "outputId": "6c0a6eb5-f314-4192-cbc4-2f2fbcfcd0d3"
      },
      "outputs": [
        {
          "output_type": "execute_result",
          "data": {
            "text/plain": [
              "     0           1           2         3   4            5    6   7   8     9   \\\n",
              "0  4295  1384408151  1369000182  15407969   8  1925996.125  1.0   1   1  4055   \n",
              "1  1212  1308651719  1308651719         0   1        0.000  1.0   1   1   919   \n",
              "2  3999  1365845920  1365635155    210765   2   105382.500  1.0   1   1   360   \n",
              "3  1069  1307745449  1307745449         0   1        0.000  1.0   1   1  5086   \n",
              "4  4628  1375117913  1375117913         0   1        0.000  1.0   1   1   274   \n",
              "\n",
              "           10          11        12  13            14        15  16  17  \\\n",
              "0  1382211993  1365979550  16232443   3  5.410814e+06  1.333333   2   1   \n",
              "1  1307340714  1307340714         0   1  0.000000e+00  1.000000   1   1   \n",
              "2  1305289414  1304014701   1274713   2  6.373565e+05  3.500000   4   3   \n",
              "3  1386028648  1385680042    348606   5  6.972120e+04  0.600000  10 -10   \n",
              "4  1377251265  1302847190  74404075  21  3.543051e+06  2.047619   5   1   \n",
              "\n",
              "       18  \n",
              "0  1001.0  \n",
              "1  1001.0  \n",
              "2  1001.0  \n",
              "3  1001.0  \n",
              "4  1001.0  "
            ],
            "text/html": [
              "\n",
              "  <div id=\"df-a561dbe5-827e-4c15-aadf-cefd32a34a15\" class=\"colab-df-container\">\n",
              "    <div>\n",
              "<style scoped>\n",
              "    .dataframe tbody tr th:only-of-type {\n",
              "        vertical-align: middle;\n",
              "    }\n",
              "\n",
              "    .dataframe tbody tr th {\n",
              "        vertical-align: top;\n",
              "    }\n",
              "\n",
              "    .dataframe thead th {\n",
              "        text-align: right;\n",
              "    }\n",
              "</style>\n",
              "<table border=\"1\" class=\"dataframe\">\n",
              "  <thead>\n",
              "    <tr style=\"text-align: right;\">\n",
              "      <th></th>\n",
              "      <th>0</th>\n",
              "      <th>1</th>\n",
              "      <th>2</th>\n",
              "      <th>3</th>\n",
              "      <th>4</th>\n",
              "      <th>5</th>\n",
              "      <th>6</th>\n",
              "      <th>7</th>\n",
              "      <th>8</th>\n",
              "      <th>9</th>\n",
              "      <th>10</th>\n",
              "      <th>11</th>\n",
              "      <th>12</th>\n",
              "      <th>13</th>\n",
              "      <th>14</th>\n",
              "      <th>15</th>\n",
              "      <th>16</th>\n",
              "      <th>17</th>\n",
              "      <th>18</th>\n",
              "    </tr>\n",
              "  </thead>\n",
              "  <tbody>\n",
              "    <tr>\n",
              "      <th>0</th>\n",
              "      <td>4295</td>\n",
              "      <td>1384408151</td>\n",
              "      <td>1369000182</td>\n",
              "      <td>15407969</td>\n",
              "      <td>8</td>\n",
              "      <td>1925996.125</td>\n",
              "      <td>1.0</td>\n",
              "      <td>1</td>\n",
              "      <td>1</td>\n",
              "      <td>4055</td>\n",
              "      <td>1382211993</td>\n",
              "      <td>1365979550</td>\n",
              "      <td>16232443</td>\n",
              "      <td>3</td>\n",
              "      <td>5.410814e+06</td>\n",
              "      <td>1.333333</td>\n",
              "      <td>2</td>\n",
              "      <td>1</td>\n",
              "      <td>1001.0</td>\n",
              "    </tr>\n",
              "    <tr>\n",
              "      <th>1</th>\n",
              "      <td>1212</td>\n",
              "      <td>1308651719</td>\n",
              "      <td>1308651719</td>\n",
              "      <td>0</td>\n",
              "      <td>1</td>\n",
              "      <td>0.000</td>\n",
              "      <td>1.0</td>\n",
              "      <td>1</td>\n",
              "      <td>1</td>\n",
              "      <td>919</td>\n",
              "      <td>1307340714</td>\n",
              "      <td>1307340714</td>\n",
              "      <td>0</td>\n",
              "      <td>1</td>\n",
              "      <td>0.000000e+00</td>\n",
              "      <td>1.000000</td>\n",
              "      <td>1</td>\n",
              "      <td>1</td>\n",
              "      <td>1001.0</td>\n",
              "    </tr>\n",
              "    <tr>\n",
              "      <th>2</th>\n",
              "      <td>3999</td>\n",
              "      <td>1365845920</td>\n",
              "      <td>1365635155</td>\n",
              "      <td>210765</td>\n",
              "      <td>2</td>\n",
              "      <td>105382.500</td>\n",
              "      <td>1.0</td>\n",
              "      <td>1</td>\n",
              "      <td>1</td>\n",
              "      <td>360</td>\n",
              "      <td>1305289414</td>\n",
              "      <td>1304014701</td>\n",
              "      <td>1274713</td>\n",
              "      <td>2</td>\n",
              "      <td>6.373565e+05</td>\n",
              "      <td>3.500000</td>\n",
              "      <td>4</td>\n",
              "      <td>3</td>\n",
              "      <td>1001.0</td>\n",
              "    </tr>\n",
              "    <tr>\n",
              "      <th>3</th>\n",
              "      <td>1069</td>\n",
              "      <td>1307745449</td>\n",
              "      <td>1307745449</td>\n",
              "      <td>0</td>\n",
              "      <td>1</td>\n",
              "      <td>0.000</td>\n",
              "      <td>1.0</td>\n",
              "      <td>1</td>\n",
              "      <td>1</td>\n",
              "      <td>5086</td>\n",
              "      <td>1386028648</td>\n",
              "      <td>1385680042</td>\n",
              "      <td>348606</td>\n",
              "      <td>5</td>\n",
              "      <td>6.972120e+04</td>\n",
              "      <td>0.600000</td>\n",
              "      <td>10</td>\n",
              "      <td>-10</td>\n",
              "      <td>1001.0</td>\n",
              "    </tr>\n",
              "    <tr>\n",
              "      <th>4</th>\n",
              "      <td>4628</td>\n",
              "      <td>1375117913</td>\n",
              "      <td>1375117913</td>\n",
              "      <td>0</td>\n",
              "      <td>1</td>\n",
              "      <td>0.000</td>\n",
              "      <td>1.0</td>\n",
              "      <td>1</td>\n",
              "      <td>1</td>\n",
              "      <td>274</td>\n",
              "      <td>1377251265</td>\n",
              "      <td>1302847190</td>\n",
              "      <td>74404075</td>\n",
              "      <td>21</td>\n",
              "      <td>3.543051e+06</td>\n",
              "      <td>2.047619</td>\n",
              "      <td>5</td>\n",
              "      <td>1</td>\n",
              "      <td>1001.0</td>\n",
              "    </tr>\n",
              "  </tbody>\n",
              "</table>\n",
              "</div>\n",
              "    <div class=\"colab-df-buttons\">\n",
              "\n",
              "  <div class=\"colab-df-container\">\n",
              "    <button class=\"colab-df-convert\" onclick=\"convertToInteractive('df-a561dbe5-827e-4c15-aadf-cefd32a34a15')\"\n",
              "            title=\"Convert this dataframe to an interactive table.\"\n",
              "            style=\"display:none;\">\n",
              "\n",
              "  <svg xmlns=\"http://www.w3.org/2000/svg\" height=\"24px\" viewBox=\"0 -960 960 960\">\n",
              "    <path d=\"M120-120v-720h720v720H120Zm60-500h600v-160H180v160Zm220 220h160v-160H400v160Zm0 220h160v-160H400v160ZM180-400h160v-160H180v160Zm440 0h160v-160H620v160ZM180-180h160v-160H180v160Zm440 0h160v-160H620v160Z\"/>\n",
              "  </svg>\n",
              "    </button>\n",
              "\n",
              "  <style>\n",
              "    .colab-df-container {\n",
              "      display:flex;\n",
              "      gap: 12px;\n",
              "    }\n",
              "\n",
              "    .colab-df-convert {\n",
              "      background-color: #E8F0FE;\n",
              "      border: none;\n",
              "      border-radius: 50%;\n",
              "      cursor: pointer;\n",
              "      display: none;\n",
              "      fill: #1967D2;\n",
              "      height: 32px;\n",
              "      padding: 0 0 0 0;\n",
              "      width: 32px;\n",
              "    }\n",
              "\n",
              "    .colab-df-convert:hover {\n",
              "      background-color: #E2EBFA;\n",
              "      box-shadow: 0px 1px 2px rgba(60, 64, 67, 0.3), 0px 1px 3px 1px rgba(60, 64, 67, 0.15);\n",
              "      fill: #174EA6;\n",
              "    }\n",
              "\n",
              "    .colab-df-buttons div {\n",
              "      margin-bottom: 4px;\n",
              "    }\n",
              "\n",
              "    [theme=dark] .colab-df-convert {\n",
              "      background-color: #3B4455;\n",
              "      fill: #D2E3FC;\n",
              "    }\n",
              "\n",
              "    [theme=dark] .colab-df-convert:hover {\n",
              "      background-color: #434B5C;\n",
              "      box-shadow: 0px 1px 3px 1px rgba(0, 0, 0, 0.15);\n",
              "      filter: drop-shadow(0px 1px 2px rgba(0, 0, 0, 0.3));\n",
              "      fill: #FFFFFF;\n",
              "    }\n",
              "  </style>\n",
              "\n",
              "    <script>\n",
              "      const buttonEl =\n",
              "        document.querySelector('#df-a561dbe5-827e-4c15-aadf-cefd32a34a15 button.colab-df-convert');\n",
              "      buttonEl.style.display =\n",
              "        google.colab.kernel.accessAllowed ? 'block' : 'none';\n",
              "\n",
              "      async function convertToInteractive(key) {\n",
              "        const element = document.querySelector('#df-a561dbe5-827e-4c15-aadf-cefd32a34a15');\n",
              "        const dataTable =\n",
              "          await google.colab.kernel.invokeFunction('convertToInteractive',\n",
              "                                                    [key], {});\n",
              "        if (!dataTable) return;\n",
              "\n",
              "        const docLinkHtml = 'Like what you see? Visit the ' +\n",
              "          '<a target=\"_blank\" href=https://colab.research.google.com/notebooks/data_table.ipynb>data table notebook</a>'\n",
              "          + ' to learn more about interactive tables.';\n",
              "        element.innerHTML = '';\n",
              "        dataTable['output_type'] = 'display_data';\n",
              "        await google.colab.output.renderOutput(dataTable, element);\n",
              "        const docLink = document.createElement('div');\n",
              "        docLink.innerHTML = docLinkHtml;\n",
              "        element.appendChild(docLink);\n",
              "      }\n",
              "    </script>\n",
              "  </div>\n",
              "\n",
              "\n",
              "<div id=\"df-58ab9a47-2a4a-4702-8a4f-1eabb70fdfb0\">\n",
              "  <button class=\"colab-df-quickchart\" onclick=\"quickchart('df-58ab9a47-2a4a-4702-8a4f-1eabb70fdfb0')\"\n",
              "            title=\"Suggest charts\"\n",
              "            style=\"display:none;\">\n",
              "\n",
              "<svg xmlns=\"http://www.w3.org/2000/svg\" height=\"24px\"viewBox=\"0 0 24 24\"\n",
              "     width=\"24px\">\n",
              "    <g>\n",
              "        <path d=\"M19 3H5c-1.1 0-2 .9-2 2v14c0 1.1.9 2 2 2h14c1.1 0 2-.9 2-2V5c0-1.1-.9-2-2-2zM9 17H7v-7h2v7zm4 0h-2V7h2v10zm4 0h-2v-4h2v4z\"/>\n",
              "    </g>\n",
              "</svg>\n",
              "  </button>\n",
              "\n",
              "<style>\n",
              "  .colab-df-quickchart {\n",
              "      --bg-color: #E8F0FE;\n",
              "      --fill-color: #1967D2;\n",
              "      --hover-bg-color: #E2EBFA;\n",
              "      --hover-fill-color: #174EA6;\n",
              "      --disabled-fill-color: #AAA;\n",
              "      --disabled-bg-color: #DDD;\n",
              "  }\n",
              "\n",
              "  [theme=dark] .colab-df-quickchart {\n",
              "      --bg-color: #3B4455;\n",
              "      --fill-color: #D2E3FC;\n",
              "      --hover-bg-color: #434B5C;\n",
              "      --hover-fill-color: #FFFFFF;\n",
              "      --disabled-bg-color: #3B4455;\n",
              "      --disabled-fill-color: #666;\n",
              "  }\n",
              "\n",
              "  .colab-df-quickchart {\n",
              "    background-color: var(--bg-color);\n",
              "    border: none;\n",
              "    border-radius: 50%;\n",
              "    cursor: pointer;\n",
              "    display: none;\n",
              "    fill: var(--fill-color);\n",
              "    height: 32px;\n",
              "    padding: 0;\n",
              "    width: 32px;\n",
              "  }\n",
              "\n",
              "  .colab-df-quickchart:hover {\n",
              "    background-color: var(--hover-bg-color);\n",
              "    box-shadow: 0 1px 2px rgba(60, 64, 67, 0.3), 0 1px 3px 1px rgba(60, 64, 67, 0.15);\n",
              "    fill: var(--button-hover-fill-color);\n",
              "  }\n",
              "\n",
              "  .colab-df-quickchart-complete:disabled,\n",
              "  .colab-df-quickchart-complete:disabled:hover {\n",
              "    background-color: var(--disabled-bg-color);\n",
              "    fill: var(--disabled-fill-color);\n",
              "    box-shadow: none;\n",
              "  }\n",
              "\n",
              "  .colab-df-spinner {\n",
              "    border: 2px solid var(--fill-color);\n",
              "    border-color: transparent;\n",
              "    border-bottom-color: var(--fill-color);\n",
              "    animation:\n",
              "      spin 1s steps(1) infinite;\n",
              "  }\n",
              "\n",
              "  @keyframes spin {\n",
              "    0% {\n",
              "      border-color: transparent;\n",
              "      border-bottom-color: var(--fill-color);\n",
              "      border-left-color: var(--fill-color);\n",
              "    }\n",
              "    20% {\n",
              "      border-color: transparent;\n",
              "      border-left-color: var(--fill-color);\n",
              "      border-top-color: var(--fill-color);\n",
              "    }\n",
              "    30% {\n",
              "      border-color: transparent;\n",
              "      border-left-color: var(--fill-color);\n",
              "      border-top-color: var(--fill-color);\n",
              "      border-right-color: var(--fill-color);\n",
              "    }\n",
              "    40% {\n",
              "      border-color: transparent;\n",
              "      border-right-color: var(--fill-color);\n",
              "      border-top-color: var(--fill-color);\n",
              "    }\n",
              "    60% {\n",
              "      border-color: transparent;\n",
              "      border-right-color: var(--fill-color);\n",
              "    }\n",
              "    80% {\n",
              "      border-color: transparent;\n",
              "      border-right-color: var(--fill-color);\n",
              "      border-bottom-color: var(--fill-color);\n",
              "    }\n",
              "    90% {\n",
              "      border-color: transparent;\n",
              "      border-bottom-color: var(--fill-color);\n",
              "    }\n",
              "  }\n",
              "</style>\n",
              "\n",
              "  <script>\n",
              "    async function quickchart(key) {\n",
              "      const quickchartButtonEl =\n",
              "        document.querySelector('#' + key + ' button');\n",
              "      quickchartButtonEl.disabled = true;  // To prevent multiple clicks.\n",
              "      quickchartButtonEl.classList.add('colab-df-spinner');\n",
              "      try {\n",
              "        const charts = await google.colab.kernel.invokeFunction(\n",
              "            'suggestCharts', [key], {});\n",
              "      } catch (error) {\n",
              "        console.error('Error during call to suggestCharts:', error);\n",
              "      }\n",
              "      quickchartButtonEl.classList.remove('colab-df-spinner');\n",
              "      quickchartButtonEl.classList.add('colab-df-quickchart-complete');\n",
              "    }\n",
              "    (() => {\n",
              "      let quickchartButtonEl =\n",
              "        document.querySelector('#df-58ab9a47-2a4a-4702-8a4f-1eabb70fdfb0 button');\n",
              "      quickchartButtonEl.style.display =\n",
              "        google.colab.kernel.accessAllowed ? 'block' : 'none';\n",
              "    })();\n",
              "  </script>\n",
              "</div>\n",
              "\n",
              "    </div>\n",
              "  </div>\n"
            ],
            "application/vnd.google.colaboratory.intrinsic+json": {
              "type": "dataframe",
              "variable_name": "dataset",
              "summary": "{\n  \"name\": \"dataset\",\n  \"rows\": 26410,\n  \"fields\": [\n    {\n      \"column\": 0,\n      \"properties\": {\n        \"dtype\": \"number\",\n        \"std\": 1416,\n        \"min\": 1,\n        \"max\": 5996,\n        \"num_unique_values\": 2125,\n        \"samples\": [\n          3360,\n          2934,\n          5283\n        ],\n        \"semantic_type\": \"\",\n        \"description\": \"\"\n      }\n    },\n    {\n      \"column\": 1,\n      \"properties\": {\n        \"dtype\": \"number\",\n        \"std\": 38852265,\n        \"min\": 1289660347,\n        \"max\": 1453684324,\n        \"num_unique_values\": 2125,\n        \"samples\": [\n          1358728807,\n          1424538914,\n          1390054450\n        ],\n        \"semantic_type\": \"\",\n        \"description\": \"\"\n      }\n    },\n    {\n      \"column\": 2,\n      \"properties\": {\n        \"dtype\": \"number\",\n        \"std\": 27861445,\n        \"min\": 1289241912,\n        \"max\": 1452182096,\n        \"num_unique_values\": 2125,\n        \"samples\": [\n          1358728807,\n          1352641511,\n          1389589694\n        ],\n        \"semantic_type\": \"\",\n        \"description\": \"\"\n      }\n    },\n    {\n      \"column\": 3,\n      \"properties\": {\n        \"dtype\": \"number\",\n        \"std\": 49906779,\n        \"min\": 0,\n        \"max\": 164425379,\n        \"num_unique_values\": 1605,\n        \"samples\": [\n          141,\n          43898816,\n          2162030\n        ],\n        \"semantic_type\": \"\",\n        \"description\": \"\"\n      }\n    },\n    {\n      \"column\": 4,\n      \"properties\": {\n        \"dtype\": \"number\",\n        \"std\": 217,\n        \"min\": 1,\n        \"max\": 763,\n        \"num_unique_values\": 119,\n        \"samples\": [\n          67,\n          107,\n          17\n        ],\n        \"semantic_type\": \"\",\n        \"description\": \"\"\n      }\n    },\n    {\n      \"column\": 5,\n      \"properties\": {\n        \"dtype\": \"number\",\n        \"std\": 1148002.5469588076,\n        \"min\": 0.0,\n        \"max\": 36150758.5,\n        \"num_unique_values\": 1610,\n        \"samples\": [\n          1024017.0,\n          275309.45454545453,\n          3835917.3\n        ],\n        \"semantic_type\": \"\",\n        \"description\": \"\"\n      }\n    },\n    {\n      \"column\": 6,\n      \"properties\": {\n        \"dtype\": \"number\",\n        \"std\": 1.8150216990456718,\n        \"min\": -10.0,\n        \"max\": 10.0,\n        \"num_unique_values\": 442,\n        \"samples\": [\n          4.25,\n          -0.9428571428571428,\n          1.8333333333333333\n        ],\n        \"semantic_type\": \"\",\n        \"description\": \"\"\n      }\n    },\n    {\n      \"column\": 7,\n      \"properties\": {\n        \"dtype\": \"number\",\n        \"std\": 2,\n        \"min\": -10,\n        \"max\": 10,\n        \"num_unique_values\": 13,\n        \"samples\": [\n          -1,\n          -10,\n          1\n        ],\n        \"semantic_type\": \"\",\n        \"description\": \"\"\n      }\n    },\n    {\n      \"column\": 8,\n      \"properties\": {\n        \"dtype\": \"number\",\n        \"std\": 4,\n        \"min\": -10,\n        \"max\": 10,\n        \"num_unique_values\": 19,\n        \"samples\": [\n          1,\n          -3,\n          -2\n        ],\n        \"semantic_type\": \"\",\n        \"description\": \"\"\n      }\n    },\n    {\n      \"column\": 9,\n      \"properties\": {\n        \"dtype\": \"number\",\n        \"std\": 1723,\n        \"min\": 1,\n        \"max\": 6005,\n        \"num_unique_values\": 5790,\n        \"samples\": [\n          2847,\n          183,\n          1840\n        ],\n        \"semantic_type\": \"\",\n        \"description\": \"\"\n      }\n    },\n    {\n      \"column\": 10,\n      \"properties\": {\n        \"dtype\": \"number\",\n        \"std\": 36211763,\n        \"min\": 1289254254,\n        \"max\": 1453684324,\n        \"num_unique_values\": 5743,\n        \"samples\": [\n          1327350165,\n          1308943647,\n          1370007892\n        ],\n        \"semantic_type\": \"\",\n        \"description\": \"\"\n      }\n    },\n    {\n      \"column\": 11,\n      \"properties\": {\n        \"dtype\": \"number\",\n        \"std\": 33752598,\n        \"min\": 1289241912,\n        \"max\": 1451906337,\n        \"num_unique_values\": 5771,\n        \"samples\": [\n          1348023336,\n          1369858450,\n          1387681921\n        ],\n        \"semantic_type\": \"\",\n        \"description\": \"\"\n      }\n    },\n    {\n      \"column\": 12,\n      \"properties\": {\n        \"dtype\": \"number\",\n        \"std\": 24741564,\n        \"min\": 0,\n        \"max\": 163810956,\n        \"num_unique_values\": 3384,\n        \"samples\": [\n          1503983,\n          73211365,\n          362573\n        ],\n        \"semantic_type\": \"\",\n        \"description\": \"\"\n      }\n    },\n    {\n      \"column\": 13,\n      \"properties\": {\n        \"dtype\": \"number\",\n        \"std\": 20,\n        \"min\": 1,\n        \"max\": 535,\n        \"num_unique_values\": 115,\n        \"samples\": [\n          83,\n          21,\n          28\n        ],\n        \"semantic_type\": \"\",\n        \"description\": \"\"\n      }\n    },\n    {\n      \"column\": 14,\n      \"properties\": {\n        \"dtype\": \"number\",\n        \"std\": 4061929.7103140582,\n        \"min\": 0.0,\n        \"max\": 62626608.0,\n        \"num_unique_values\": 3385,\n        \"samples\": [\n          375995.75,\n          1626919.2222222222,\n          120857.66666666669\n        ],\n        \"semantic_type\": \"\",\n        \"description\": \"\"\n      }\n    },\n    {\n      \"column\": 15,\n      \"properties\": {\n        \"dtype\": \"number\",\n        \"std\": 2.8325018172028,\n        \"min\": -10.0,\n        \"max\": 10.0,\n        \"num_unique_values\": 615,\n        \"samples\": [\n          1.0909090909090908,\n          0.3125,\n          -2.65\n        ],\n        \"semantic_type\": \"\",\n        \"description\": \"\"\n      }\n    },\n    {\n      \"column\": 16,\n      \"properties\": {\n        \"dtype\": \"number\",\n        \"std\": 3,\n        \"min\": -10,\n        \"max\": 10,\n        \"num_unique_values\": 19,\n        \"samples\": [\n          2,\n          -1,\n          8\n        ],\n        \"semantic_type\": \"\",\n        \"description\": \"\"\n      }\n    },\n    {\n      \"column\": 17,\n      \"properties\": {\n        \"dtype\": \"number\",\n        \"std\": 4,\n        \"min\": -10,\n        \"max\": 10,\n        \"num_unique_values\": 20,\n        \"samples\": [\n          1,\n          8,\n          7\n        ],\n        \"semantic_type\": \"\",\n        \"description\": \"\"\n      }\n    },\n    {\n      \"column\": 18,\n      \"properties\": {\n        \"dtype\": \"number\",\n        \"std\": 353.2984719101054,\n        \"min\": 1001.0,\n        \"max\": 11006.0,\n        \"num_unique_values\": 76,\n        \"samples\": [\n          1005.0,\n          4016.0,\n          2002.0\n        ],\n        \"semantic_type\": \"\",\n        \"description\": \"\"\n      }\n    }\n  ]\n}"
            }
          },
          "metadata": {},
          "execution_count": 20
        }
      ],
      "source": [
        "dataset.head()"
      ],
      "id": "tx_yHPebJJWw"
    },
    {
      "cell_type": "code",
      "execution_count": 21,
      "metadata": {
        "id": "vf0nFMewJJWx"
      },
      "outputs": [],
      "source": [
        "input_cols = len(dataset.columns) - 1\n",
        "output_col = len(dataset.columns)\n",
        "output_classes = len(set(dataset.iloc[:,-1]))"
      ],
      "id": "vf0nFMewJJWx"
    },
    {
      "cell_type": "code",
      "execution_count": 22,
      "metadata": {
        "id": "laFgcSXJJJWx"
      },
      "outputs": [],
      "source": [
        "X = dataset.iloc[:,:input_cols].values\n",
        "y = dataset.iloc[:,input_cols:output_col].values\n"
      ],
      "id": "laFgcSXJJJWx"
    },
    {
      "cell_type": "code",
      "execution_count": 23,
      "metadata": {
        "id": "eZrnRMoiJJWy"
      },
      "outputs": [],
      "source": [
        "from sklearn.preprocessing import StandardScaler\n",
        "sc = StandardScaler()\n",
        "X = sc.fit_transform(X)"
      ],
      "id": "eZrnRMoiJJWy"
    },
    {
      "cell_type": "code",
      "execution_count": 24,
      "metadata": {
        "id": "GJL_3b_CJJWz"
      },
      "outputs": [],
      "source": [
        "\n",
        "ohe = OneHotEncoder()\n",
        "y = ohe.fit_transform(y).toarray()"
      ],
      "id": "GJL_3b_CJJWz"
    },
    {
      "cell_type": "code",
      "execution_count": 25,
      "metadata": {
        "id": "S4uI56H2JJW0"
      },
      "outputs": [],
      "source": [
        "from sklearn.model_selection import train_test_split\n",
        "X_train,X_test,y_train,y_test = train_test_split(X,y,test_size = 0.1)"
      ],
      "id": "S4uI56H2JJW0"
    },
    {
      "cell_type": "code",
      "execution_count": 26,
      "metadata": {
        "id": "c7Tv7nBeJJW0"
      },
      "outputs": [],
      "source": [
        "#from sklearn.decomposition import PCA\n",
        "#from sklearn.utils.extmath import randomized_svd\n",
        "\n",
        "#pca = PCA(n_components = 500)\n",
        "\n",
        "#X_train = pca.fit_transform(X_train)\n",
        "#X_test = pca.transform(X_test)\n",
        "\n",
        "#explained_variance = pca.explained_variance_ratio_"
      ],
      "id": "c7Tv7nBeJJW0"
    },
    {
      "cell_type": "code",
      "execution_count": 27,
      "metadata": {
        "id": "2JXl1pT5JJW0"
      },
      "outputs": [],
      "source": [
        "input_cols = X_train.shape[1]"
      ],
      "id": "2JXl1pT5JJW0"
    },
    {
      "cell_type": "code",
      "execution_count": 28,
      "metadata": {
        "id": "yF8r2JILJJW1"
      },
      "outputs": [],
      "source": [
        "#!pip install absl-py"
      ],
      "id": "yF8r2JILJJW1"
    },
    {
      "cell_type": "code",
      "execution_count": 29,
      "metadata": {
        "id": "b4nR5BHmJJW1"
      },
      "outputs": [],
      "source": [
        "#Dependencies\n",
        "import keras\n",
        "from keras.models import Sequential\n",
        "from keras import regularizers\n",
        "#from keras.layers.core import Dropout\n",
        "from keras.layers import Dense\n",
        "#Dropout(0.25),\n",
        "#num_Rows * AbsolongE / input_cols\n",
        "model = Sequential()\n",
        "model.add(Dense(16, input_dim=input_cols , activation='relu',  kernel_regularizer=regularizers.l2(0.1)))\n",
        "model.add(Dense(12, activation='relu',  kernel_regularizer=regularizers.l2(0.1)))\n",
        "model.add(Dense(output_classes, activation='softmax'))"
      ],
      "id": "b4nR5BHmJJW1"
    },
    {
      "cell_type": "code",
      "execution_count": 30,
      "metadata": {
        "id": "_tXTAoJ2JJW1"
      },
      "outputs": [],
      "source": [
        "model.compile(loss='categorical_crossentropy', optimizer='adam', metrics=[\"accuracy\"])\n"
      ],
      "id": "_tXTAoJ2JJW1"
    },
    {
      "cell_type": "code",
      "execution_count": 31,
      "metadata": {
        "id": "QoE2MxFiJJW2"
      },
      "outputs": [],
      "source": [
        "from keras.callbacks import EarlyStopping\n",
        "\n",
        "es = keras.callbacks.EarlyStopping(monitor='val_loss',\n",
        "                                   mode='min',\n",
        "                                   patience=10,\n",
        "                                   restore_best_weights=True)"
      ],
      "id": "QoE2MxFiJJW2"
    },
    {
      "cell_type": "code",
      "execution_count": 32,
      "metadata": {
        "colab": {
          "base_uri": "https://localhost:8080/"
        },
        "id": "fyvbsUOBJJW2",
        "outputId": "2c517ef0-4afc-4b8d-8768-ccfc30c4b0f0"
      },
      "outputs": [
        {
          "output_type": "stream",
          "name": "stdout",
          "text": [
            "Model: \"sequential_1\"\n",
            "_________________________________________________________________\n",
            " Layer (type)                Output Shape              Param #   \n",
            "=================================================================\n",
            " dense_3 (Dense)             (None, 16)                304       \n",
            "                                                                 \n",
            " dense_4 (Dense)             (None, 12)                204       \n",
            "                                                                 \n",
            " dense_5 (Dense)             (None, 76)                988       \n",
            "                                                                 \n",
            "=================================================================\n",
            "Total params: 1496 (5.84 KB)\n",
            "Trainable params: 1496 (5.84 KB)\n",
            "Non-trainable params: 0 (0.00 Byte)\n",
            "_________________________________________________________________\n"
          ]
        }
      ],
      "source": [
        "model.summary()"
      ],
      "id": "fyvbsUOBJJW2"
    },
    {
      "cell_type": "code",
      "execution_count": 33,
      "metadata": {
        "colab": {
          "base_uri": "https://localhost:8080/"
        },
        "id": "ZBnJcUuDJJW2",
        "outputId": "0e67b209-d1e0-479a-fbd8-767f5e8a4b7e"
      },
      "outputs": [
        {
          "output_type": "stream",
          "name": "stdout",
          "text": [
            "Epoch 1/50\n",
            "595/595 [==============================] - 2s 3ms/step - loss: 3.5516 - accuracy: 0.2478 - val_loss: 2.0209 - val_accuracy: 0.4590\n",
            "Epoch 2/50\n",
            "595/595 [==============================] - 2s 3ms/step - loss: 1.8234 - accuracy: 0.5583 - val_loss: 1.7167 - val_accuracy: 0.5890\n",
            "Epoch 3/50\n",
            "595/595 [==============================] - 2s 3ms/step - loss: 1.6408 - accuracy: 0.6320 - val_loss: 1.6018 - val_accuracy: 0.6540\n",
            "Epoch 4/50\n",
            "595/595 [==============================] - 1s 2ms/step - loss: 1.5519 - accuracy: 0.6620 - val_loss: 1.5307 - val_accuracy: 0.7154\n",
            "Epoch 5/50\n",
            "595/595 [==============================] - 1s 2ms/step - loss: 1.4909 - accuracy: 0.6891 - val_loss: 1.4832 - val_accuracy: 0.6895\n",
            "Epoch 6/50\n",
            "595/595 [==============================] - 1s 2ms/step - loss: 1.4427 - accuracy: 0.6978 - val_loss: 1.4343 - val_accuracy: 0.6973\n",
            "Epoch 7/50\n",
            "595/595 [==============================] - 1s 2ms/step - loss: 1.4032 - accuracy: 0.7152 - val_loss: 1.4043 - val_accuracy: 0.7240\n",
            "Epoch 8/50\n",
            "595/595 [==============================] - 1s 2ms/step - loss: 1.3696 - accuracy: 0.7194 - val_loss: 1.3683 - val_accuracy: 0.7491\n",
            "Epoch 9/50\n",
            "595/595 [==============================] - 1s 2ms/step - loss: 1.3388 - accuracy: 0.7373 - val_loss: 1.3390 - val_accuracy: 0.7573\n",
            "Epoch 10/50\n",
            "595/595 [==============================] - 1s 2ms/step - loss: 1.3108 - accuracy: 0.7502 - val_loss: 1.3161 - val_accuracy: 0.7463\n",
            "Epoch 11/50\n",
            "595/595 [==============================] - 1s 2ms/step - loss: 1.2848 - accuracy: 0.7566 - val_loss: 1.2851 - val_accuracy: 0.7465\n",
            "Epoch 12/50\n",
            "595/595 [==============================] - 2s 3ms/step - loss: 1.2601 - accuracy: 0.7608 - val_loss: 1.2642 - val_accuracy: 0.8170\n",
            "Epoch 13/50\n",
            "595/595 [==============================] - 2s 3ms/step - loss: 1.2372 - accuracy: 0.7769 - val_loss: 1.2397 - val_accuracy: 0.7819\n",
            "Epoch 14/50\n",
            "595/595 [==============================] - 1s 2ms/step - loss: 1.2156 - accuracy: 0.7824 - val_loss: 1.2212 - val_accuracy: 0.8206\n",
            "Epoch 15/50\n",
            "595/595 [==============================] - 1s 2ms/step - loss: 1.1934 - accuracy: 0.7927 - val_loss: 1.2024 - val_accuracy: 0.8063\n",
            "Epoch 16/50\n",
            "595/595 [==============================] - 1s 2ms/step - loss: 1.1738 - accuracy: 0.8032 - val_loss: 1.1798 - val_accuracy: 0.7865\n",
            "Epoch 17/50\n",
            "595/595 [==============================] - 1s 2ms/step - loss: 1.1541 - accuracy: 0.8026 - val_loss: 1.1592 - val_accuracy: 0.8456\n",
            "Epoch 18/50\n",
            "595/595 [==============================] - 1s 2ms/step - loss: 1.1352 - accuracy: 0.8123 - val_loss: 1.1440 - val_accuracy: 0.8080\n",
            "Epoch 19/50\n",
            "595/595 [==============================] - 1s 2ms/step - loss: 1.1171 - accuracy: 0.8199 - val_loss: 1.1275 - val_accuracy: 0.8321\n",
            "Epoch 20/50\n",
            "595/595 [==============================] - 1s 2ms/step - loss: 1.0995 - accuracy: 0.8248 - val_loss: 1.1072 - val_accuracy: 0.8376\n",
            "Epoch 21/50\n",
            "595/595 [==============================] - 1s 2ms/step - loss: 1.0839 - accuracy: 0.8339 - val_loss: 1.0919 - val_accuracy: 0.8145\n",
            "Epoch 22/50\n",
            "595/595 [==============================] - 2s 3ms/step - loss: 1.0686 - accuracy: 0.8374 - val_loss: 1.0789 - val_accuracy: 0.8572\n",
            "Epoch 23/50\n",
            "595/595 [==============================] - 2s 3ms/step - loss: 1.0529 - accuracy: 0.8462 - val_loss: 1.0603 - val_accuracy: 0.8647\n",
            "Epoch 24/50\n",
            "595/595 [==============================] - 2s 3ms/step - loss: 1.0390 - accuracy: 0.8512 - val_loss: 1.0529 - val_accuracy: 0.8477\n",
            "Epoch 25/50\n",
            "595/595 [==============================] - 1s 2ms/step - loss: 1.0251 - accuracy: 0.8542 - val_loss: 1.0368 - val_accuracy: 0.8589\n",
            "Epoch 26/50\n",
            "595/595 [==============================] - 1s 2ms/step - loss: 1.0126 - accuracy: 0.8586 - val_loss: 1.0252 - val_accuracy: 0.8456\n",
            "Epoch 27/50\n",
            "595/595 [==============================] - 1s 2ms/step - loss: 0.9990 - accuracy: 0.8631 - val_loss: 1.0109 - val_accuracy: 0.9053\n",
            "Epoch 28/50\n",
            "595/595 [==============================] - 1s 2ms/step - loss: 0.9878 - accuracy: 0.8671 - val_loss: 1.0018 - val_accuracy: 0.8658\n",
            "Epoch 29/50\n",
            "595/595 [==============================] - 1s 2ms/step - loss: 0.9752 - accuracy: 0.8717 - val_loss: 0.9925 - val_accuracy: 0.8717\n",
            "Epoch 30/50\n",
            "595/595 [==============================] - 1s 2ms/step - loss: 0.9637 - accuracy: 0.8710 - val_loss: 0.9796 - val_accuracy: 0.8940\n",
            "Epoch 31/50\n",
            "595/595 [==============================] - 1s 2ms/step - loss: 0.9524 - accuracy: 0.8770 - val_loss: 0.9668 - val_accuracy: 0.8700\n",
            "Epoch 32/50\n",
            "595/595 [==============================] - 2s 3ms/step - loss: 0.9417 - accuracy: 0.8759 - val_loss: 0.9571 - val_accuracy: 0.8830\n",
            "Epoch 33/50\n",
            "595/595 [==============================] - 2s 3ms/step - loss: 0.9313 - accuracy: 0.8793 - val_loss: 0.9518 - val_accuracy: 0.8912\n",
            "Epoch 34/50\n",
            "595/595 [==============================] - 1s 2ms/step - loss: 0.9200 - accuracy: 0.8826 - val_loss: 0.9359 - val_accuracy: 0.8940\n",
            "Epoch 35/50\n",
            "595/595 [==============================] - 1s 2ms/step - loss: 0.9106 - accuracy: 0.8823 - val_loss: 0.9284 - val_accuracy: 0.8812\n",
            "Epoch 36/50\n",
            "595/595 [==============================] - 1s 2ms/step - loss: 0.9013 - accuracy: 0.8830 - val_loss: 0.9182 - val_accuracy: 0.8904\n",
            "Epoch 37/50\n",
            "595/595 [==============================] - 1s 2ms/step - loss: 0.8919 - accuracy: 0.8830 - val_loss: 0.9066 - val_accuracy: 0.8868\n",
            "Epoch 38/50\n",
            "595/595 [==============================] - 1s 2ms/step - loss: 0.8831 - accuracy: 0.8838 - val_loss: 0.9010 - val_accuracy: 0.8887\n",
            "Epoch 39/50\n",
            "595/595 [==============================] - 1s 2ms/step - loss: 0.8742 - accuracy: 0.8831 - val_loss: 0.8892 - val_accuracy: 0.8944\n",
            "Epoch 40/50\n",
            "595/595 [==============================] - 1s 2ms/step - loss: 0.8654 - accuracy: 0.8830 - val_loss: 0.8932 - val_accuracy: 0.8965\n",
            "Epoch 41/50\n",
            "595/595 [==============================] - 1s 2ms/step - loss: 0.8565 - accuracy: 0.8854 - val_loss: 0.8800 - val_accuracy: 0.8845\n",
            "Epoch 42/50\n",
            "595/595 [==============================] - 2s 3ms/step - loss: 0.8491 - accuracy: 0.8876 - val_loss: 0.8697 - val_accuracy: 0.8839\n",
            "Epoch 43/50\n",
            "595/595 [==============================] - 2s 3ms/step - loss: 0.8408 - accuracy: 0.8866 - val_loss: 0.8628 - val_accuracy: 0.8891\n",
            "Epoch 44/50\n",
            "595/595 [==============================] - 2s 3ms/step - loss: 0.8327 - accuracy: 0.8881 - val_loss: 0.8510 - val_accuracy: 0.8885\n",
            "Epoch 45/50\n",
            "595/595 [==============================] - 1s 2ms/step - loss: 0.8265 - accuracy: 0.8850 - val_loss: 0.8549 - val_accuracy: 0.9087\n",
            "Epoch 46/50\n",
            "595/595 [==============================] - 1s 2ms/step - loss: 0.8192 - accuracy: 0.8862 - val_loss: 0.8426 - val_accuracy: 0.8923\n",
            "Epoch 47/50\n",
            "595/595 [==============================] - 1s 2ms/step - loss: 0.8129 - accuracy: 0.8874 - val_loss: 0.8352 - val_accuracy: 0.8902\n",
            "Epoch 48/50\n",
            "595/595 [==============================] - 1s 2ms/step - loss: 0.8062 - accuracy: 0.8882 - val_loss: 0.8252 - val_accuracy: 0.8917\n",
            "Epoch 49/50\n",
            "595/595 [==============================] - 1s 2ms/step - loss: 0.8003 - accuracy: 0.8887 - val_loss: 0.8210 - val_accuracy: 0.8858\n",
            "Epoch 50/50\n",
            "595/595 [==============================] - 1s 2ms/step - loss: 0.7934 - accuracy: 0.8901 - val_loss: 0.8162 - val_accuracy: 0.8919\n"
          ]
        }
      ],
      "source": [
        "history = model.fit(X_train, y_train, epochs=50,  shuffle=True, validation_split=0.2)"
      ],
      "id": "ZBnJcUuDJJW2"
    },
    {
      "cell_type": "code",
      "execution_count": 34,
      "metadata": {
        "colab": {
          "base_uri": "https://localhost:8080/"
        },
        "id": "pBzKesPoJJW2",
        "outputId": "566add49-19b6-406b-bd9d-f54fdaed081b"
      },
      "outputs": [
        {
          "output_type": "stream",
          "name": "stdout",
          "text": [
            "83/83 [==============================] - 0s 1ms/step\n"
          ]
        }
      ],
      "source": [
        "\n",
        "#y_pred = ridgereg.predict(X_test)\n",
        "y_pred = model.predict(X_test)\n",
        "#Converting predictions to label\n",
        "pred = list()\n",
        "for i in range(len(y_pred)):\n",
        "    pred.append(np.argmax(y_pred[i]))\n",
        "#Converting one hot encoded test label to label\n",
        "test = list()\n",
        "for i in range(len(y_test)):\n",
        "    test.append(np.argmax(y_test[i]))"
      ],
      "id": "pBzKesPoJJW2"
    },
    {
      "cell_type": "code",
      "execution_count": 35,
      "metadata": {
        "colab": {
          "base_uri": "https://localhost:8080/"
        },
        "id": "ulanpBfpJJW2",
        "outputId": "1302764d-c00b-49a2-8593-312cd58d0c79"
      },
      "outputs": [
        {
          "output_type": "stream",
          "name": "stdout",
          "text": [
            "Accuracy is: 0.8818629307080651\n"
          ]
        }
      ],
      "source": [
        "from sklearn.metrics import accuracy_score\n",
        "\n",
        "a = accuracy_score(pred,test)\n",
        "print('Accuracy is:', a)"
      ],
      "id": "ulanpBfpJJW2"
    },
    {
      "cell_type": "code",
      "execution_count": 36,
      "metadata": {
        "colab": {
          "base_uri": "https://localhost:8080/",
          "height": 472
        },
        "id": "Nk8tquvMJJW3",
        "outputId": "7577b1ec-9ea6-4cca-e1d9-0de210430d8f"
      },
      "outputs": [
        {
          "output_type": "display_data",
          "data": {
            "text/plain": [
              "<Figure size 640x480 with 1 Axes>"
            ],
            "image/png": "[encoded data removed]"
          },
          "metadata": {}
        }
      ],
      "source": [
        "import matplotlib.pyplot as plt\n",
        "plt.plot(history.history['accuracy'])\n",
        "plt.plot(history.history['val_accuracy'])\n",
        "plt.title('Model Accuracy')\n",
        "plt.ylabel('Accuracy')\n",
        "plt.xlabel('Epoch')\n",
        "plt.legend(['Training', 'Validation'], loc='lower right')\n",
        "plt.show()"
      ],
      "id": "Nk8tquvMJJW3"
    },
    {
      "cell_type": "code",
      "execution_count": 37,
      "metadata": {
        "colab": {
          "base_uri": "https://localhost:8080/",
          "height": 472
        },
        "id": "naV8qqBCJJW3",
        "outputId": "62d9b101-3a42-419a-9027-4509c3af0570"
      },
      "outputs": [
        {
          "output_type": "display_data",
          "data": {
            "text/plain": [
              "<Figure size 640x480 with 1 Axes>"
            ],
            "image/png": "[encoded data removed]"
          },
          "metadata": {}
        }
      ],
      "source": [
        "plt.plot(history.history['loss'])\n",
        "plt.plot(history.history['val_loss'])\n",
        "plt.title('Model loss')\n",
        "plt.ylabel('Loss')\n",
        "plt.xlabel('Epoch')\n",
        "plt.legend(['Train', 'Test'], loc='upper left')\n",
        "plt.show()\n"
      ],
      "id": "naV8qqBCJJW3"
    },
    {
      "cell_type": "code",
      "execution_count": 38,
      "metadata": {
        "colab": {
          "base_uri": "https://localhost:8080/"
        },
        "id": "kYd4hFobJJW3",
        "outputId": "f2bf0323-bf51-459c-bf4d-55b7edcb37e8"
      },
      "outputs": [
        {
          "output_type": "execute_result",
          "data": {
            "text/plain": [
              "array([[277,   7,   0,   0,   0,   0,   0,   0,   0,   0,   0,   0,   0,\n",
              "          0,   0,   0,   0,   0,   0,   0,   0,   0,   0,   0,   0,   0,\n",
              "          0,   0,   0],\n",
              "       [  1, 280,  11,   0,   0,   0,   0,   0,   0,   0,   0,   0,   0,\n",
              "          0,   0,   0,   0,   0,   0,   0,   0,   0,   0,   0,   0,   0,\n",
              "          0,   0,   0],\n",
              "       [  0,   0, 275,   0,   0,   0,   0,   0,   0,   0,   0,   0,   0,\n",
              "          0,   0,   0,   0,   0,   0,   0,   0,   0,   0,   0,   0,   0,\n",
              "          0,   0,   0],\n",
              "       [  0,   0,   0, 258,  15,   0,   0,   0,   0,   0,   0,   0,   0,\n",
              "          0,   0,   0,   0,   0,   0,   0,   0,   0,   0,   0,   0,   0,\n",
              "          0,   0,   0],\n",
              "       [  0,   0,   0,  70, 239,   0,   0,   0,   0,   0,   0,   0,   0,\n",
              "          0,   0,   0,   0,   0,   0,   0,   0,   0,   0,   0,   0,   0,\n",
              "          0,   0,   0],\n",
              "       [  0,   0,   0,   0,   1, 280,   0,   0,   0,   0,   0,   0,   0,\n",
              "          0,   0,   0,   0,   0,   0,   0,   0,   0,   0,   0,   0,   0,\n",
              "          0,   0,   0],\n",
              "       [  0,   0,   0,   0,   0,   0, 289,  12,   0,   0,   0,   0,   0,\n",
              "          0,   0,   0,   0,   0,   0,   0,   0,   0,   0,   0,   0,   0,\n",
              "          0,   0,   0],\n",
              "       [  0,   0,   0,   0,   0,   0, 145, 161,   0,   0,   0,   0,   0,\n",
              "          0,   0,   0,   0,   0,   0,   0,   0,   0,   0,   0,   0,   0,\n",
              "          0,   0,   0],\n",
              "       [  0,   0,   0,   0,   0,   0,   0,   0, 270,   0,   0,   0,   0,\n",
              "          0,   0,   0,   0,   0,   0,   0,   0,   0,   0,   0,   0,   0,\n",
              "          0,   0,   0],\n",
              "       [  4,   0,   0,   0,   0,   0,   0,   0,   0,   0,   0,   0,   0,\n",
              "          0,   0,   0,   0,   0,   0,   0,   0,   0,   0,   0,   0,   0,\n",
              "          0,   0,   0],\n",
              "       [  0,   0,   6,   0,   0,   0,   0,   0,   0,   1,   0,   0,   0,\n",
              "          0,   0,   0,   0,   0,   0,   0,   0,   0,   0,   0,   0,   0,\n",
              "          0,   0,   0],\n",
              "       [  0,   0,   0,   2,   3,   0,   0,   0,   0,   0,   0,   0,   0,\n",
              "          0,   0,   0,   0,   0,   0,   0,   0,   0,   0,   0,   0,   0,\n",
              "          0,   0,   0],\n",
              "       [  0,   0,   0,   0,   1,   0,   0,   0,   0,   0,   0,   0,   0,\n",
              "          0,   0,   0,   0,   0,   0,   0,   0,   0,   0,   0,   0,   0,\n",
              "          0,   0,   0],\n",
              "       [  0,   0,   0,   0,   0,   4,   0,   0,   0,   0,   0,   0,   0,\n",
              "          0,   0,   0,   0,   0,   0,   0,   0,   0,   0,   0,   0,   0,\n",
              "          0,   0,   0],\n",
              "       [  0,   0,   0,   0,   0,   1,   0,   3,   0,   0,   0,   0,   0,\n",
              "          0,   0,   0,   0,   0,   0,   0,   0,   0,   0,   0,   0,   0,\n",
              "          0,   0,   0],\n",
              "       [  0,   0,   0,   0,   0,   1,   0,   4,   0,   0,   0,   0,   0,\n",
              "          0,   0,   0,   0,   0,   0,   0,   0,   0,   0,   0,   0,   0,\n",
              "          0,   0,   0],\n",
              "       [  0,   0,   0,   0,   0,   0,   0,   0,   4,   0,   0,   0,   0,\n",
              "          0,   0,   0,   0,   0,   0,   0,   0,   0,   0,   0,   0,   0,\n",
              "          0,   0,   0],\n",
              "       [  0,   1,   0,   0,   0,   0,   0,   0,   0,   0,   0,   0,   0,\n",
              "          0,   0,   0,   0,   0,   0,   0,   0,   0,   0,   0,   0,   0,\n",
              "          0,   0,   0],\n",
              "       [  0,   0,   0,   0,   1,   0,   0,   0,   0,   0,   0,   0,   0,\n",
              "          0,   0,   0,   0,   0,   0,   0,   0,   0,   0,   0,   0,   0,\n",
              "          0,   0,   0],\n",
              "       [  0,   0,   0,   0,   3,   0,   0,   0,   0,   0,   0,   0,   0,\n",
              "          0,   0,   0,   0,   0,   0,   0,   0,   0,   0,   0,   0,   0,\n",
              "          0,   0,   0],\n",
              "       [  0,   0,   0,   0,   2,   0,   0,   0,   0,   0,   0,   0,   0,\n",
              "          0,   0,   0,   0,   0,   0,   0,   0,   0,   0,   0,   0,   0,\n",
              "          0,   0,   0],\n",
              "       [  0,   0,   0,   0,   0,   1,   0,   0,   0,   0,   0,   0,   0,\n",
              "          0,   0,   0,   0,   0,   0,   0,   0,   0,   0,   0,   0,   0,\n",
              "          0,   0,   0],\n",
              "       [  0,   0,   0,   0,   1,   0,   0,   0,   0,   0,   0,   0,   0,\n",
              "          0,   0,   0,   0,   0,   0,   0,   0,   0,   0,   0,   0,   0,\n",
              "          0,   0,   0],\n",
              "       [  0,   0,   0,   0,   0,   0,   0,   2,   0,   0,   0,   0,   0,\n",
              "          0,   0,   0,   0,   0,   0,   0,   0,   0,   0,   0,   0,   0,\n",
              "          0,   0,   0],\n",
              "       [  0,   0,   0,   0,   0,   0,   0,   0,   0,   1,   0,   0,   0,\n",
              "          0,   0,   0,   0,   0,   0,   0,   0,   0,   0,   0,   0,   0,\n",
              "          0,   0,   0],\n",
              "       [  0,   0,   0,   0,   0,   0,   0,   1,   0,   0,   0,   0,   0,\n",
              "          0,   0,   0,   0,   0,   0,   0,   0,   0,   0,   0,   0,   0,\n",
              "          0,   0,   0],\n",
              "       [  0,   0,   0,   0,   0,   0,   0,   0,   0,   1,   0,   0,   0,\n",
              "          0,   0,   0,   0,   0,   0,   0,   0,   0,   0,   0,   0,   0,\n",
              "          0,   0,   0],\n",
              "       [  0,   0,   0,   0,   0,   0,   0,   0,   0,   0,   0,   0,   0,\n",
              "          0,   0,   0,   0,   1,   0,   0,   0,   0,   0,   0,   0,   0,\n",
              "          0,   0,   0],\n",
              "       [  0,   0,   0,   0,   0,   0,   0,   0,   0,   0,   0,   0,   0,\n",
              "          0,   0,   0,   0,   1,   0,   0,   0,   0,   0,   0,   0,   0,\n",
              "          0,   0,   0]])"
            ]
          },
          "metadata": {},
          "execution_count": 38
        }
      ],
      "source": [
        "from sklearn.metrics import confusion_matrix\n",
        "from sklearn.metrics import classification_report\n",
        "\n",
        "\n",
        "matrix = confusion_matrix(test, pred)\n",
        "matrix"
      ],
      "id": "kYd4hFobJJW3"
    },
    {
      "cell_type": "code",
      "execution_count": 39,
      "metadata": {
        "colab": {
          "base_uri": "https://localhost:8080/"
        },
        "id": "Qzl64w2nJJW3",
        "outputId": "637a998e-4656-4e30-cc4a-d533804bb72a"
      },
      "outputs": [
        {
          "output_type": "stream",
          "name": "stdout",
          "text": [
            "              precision    recall  f1-score   support\n",
            "\n",
            "           0       0.98      0.98      0.98       284\n",
            "           1       0.97      0.96      0.97       292\n",
            "           2       0.94      1.00      0.97       275\n",
            "           3       0.78      0.95      0.86       273\n",
            "           4       0.90      0.77      0.83       309\n",
            "           5       0.98      1.00      0.99       281\n",
            "           6       0.67      0.96      0.79       301\n",
            "           7       0.88      0.53      0.66       306\n",
            "           8       0.99      1.00      0.99       270\n",
            "           9       0.00      0.00      0.00         4\n",
            "          11       0.00      0.00      0.00         7\n",
            "          12       0.00      0.00      0.00         5\n",
            "          13       0.00      0.00      0.00         1\n",
            "          14       0.00      0.00      0.00         4\n",
            "          15       0.00      0.00      0.00         4\n",
            "          16       0.00      0.00      0.00         5\n",
            "          17       0.00      0.00      0.00         4\n",
            "          18       0.00      0.00      0.00         1\n",
            "          20       0.00      0.00      0.00         1\n",
            "          21       0.00      0.00      0.00         3\n",
            "          23       0.00      0.00      0.00         2\n",
            "          24       0.00      0.00      0.00         1\n",
            "          25       0.00      0.00      0.00         1\n",
            "          26       0.00      0.00      0.00         2\n",
            "          27       0.00      0.00      0.00         1\n",
            "          35       0.00      0.00      0.00         1\n",
            "          45       0.00      0.00      0.00         1\n",
            "          62       0.00      0.00      0.00         1\n",
            "          75       0.00      0.00      0.00         1\n",
            "\n",
            "    accuracy                           0.88      2641\n",
            "   macro avg       0.28      0.28      0.28      2641\n",
            "weighted avg       0.88      0.88      0.87      2641\n",
            "\n"
          ]
        },
        {
          "output_type": "stream",
          "name": "stderr",
          "text": [
            "/usr/local/lib/python3.10/dist-packages/sklearn/metrics/_classification.py:1344: UndefinedMetricWarning: Precision and F-score are ill-defined and being set to 0.0 in labels with no predicted samples. Use `zero_division` parameter to control this behavior.\n",
            "  _warn_prf(average, modifier, msg_start, len(result))\n",
            "/usr/local/lib/python3.10/dist-packages/sklearn/metrics/_classification.py:1344: UndefinedMetricWarning: Precision and F-score are ill-defined and being set to 0.0 in labels with no predicted samples. Use `zero_division` parameter to control this behavior.\n",
            "  _warn_prf(average, modifier, msg_start, len(result))\n",
            "/usr/local/lib/python3.10/dist-packages/sklearn/metrics/_classification.py:1344: UndefinedMetricWarning: Precision and F-score are ill-defined and being set to 0.0 in labels with no predicted samples. Use `zero_division` parameter to control this behavior.\n",
            "  _warn_prf(average, modifier, msg_start, len(result))\n"
          ]
        }
      ],
      "source": [
        "print(classification_report(test, pred))"
      ],
      "id": "Qzl64w2nJJW3"
    },
    {
      "cell_type": "code",
      "execution_count": 40,
      "metadata": {
        "id": "1QGWU4rNJJW4"
      },
      "outputs": [],
      "source": [
        "from sklearn.metrics import roc_auc_score\n",
        "from sklearn.metrics import average_precision_score"
      ],
      "id": "1QGWU4rNJJW4"
    },
    {
      "cell_type": "code",
      "execution_count": 41,
      "metadata": {
        "id": "RojdOloaJJW4"
      },
      "outputs": [],
      "source": [
        "def roc_auc_score_multiclass(actual_class, pred_class, average = \"macro\"):\n",
        "\n",
        "    #creating a set of all the unique classes using the actual class list\n",
        "    unique_class = set(actual_class)\n",
        "    roc_auc_dict = {}\n",
        "\n",
        "    for per_class in unique_class:\n",
        "        #creating a list of all the classes except the current class\n",
        "        other_class = [x for x in unique_class if x != per_class]\n",
        "\n",
        "        #marking the current class as 1 and all other classes as 0\n",
        "        new_actual_class = [0 if x in other_class else 1 for x in actual_class]\n",
        "        new_pred_class = [0 if x in other_class else 1 for x in pred_class]\n",
        "\n",
        "        #using the sklearn metrics method to calculate the roc_auc_score\n",
        "        roc_auc = roc_auc_score(new_actual_class, new_pred_class, average = average)\n",
        "        roc_auc_dict[per_class] = roc_auc\n",
        "\n",
        "    return roc_auc_dict"
      ],
      "id": "RojdOloaJJW4"
    },
    {
      "cell_type": "code",
      "execution_count": 42,
      "metadata": {
        "colab": {
          "base_uri": "https://localhost:8080/"
        },
        "id": "vTCDJhUGJJW4",
        "outputId": "3aa39a24-4512-4181-c6ba-1f7548ee9c74"
      },
      "outputs": [
        {
          "output_type": "stream",
          "name": "stdout",
          "text": [
            "{0: 0.986615385994371, 1: 0.9777492025169555, 2: 0.996407438715131, 3: 0.9573247698247698, 4: 0.8809423692873043, 5: 0.9967375897219373, 6: 0.9490835391998182, 7: 0.7583609746539587, 8: 0.9991564740615774, 9: 0.49943117178612056, 11: 0.5, 12: 0.5, 13: 0.5, 14: 0.5, 15: 0.5, 16: 0.5, 17: 0.5, 18: 0.49962121212121213, 20: 0.5, 21: 0.5, 23: 0.5, 24: 0.5, 25: 0.5, 26: 0.5, 27: 0.5, 35: 0.5, 45: 0.5, 62: 0.5, 75: 0.5}\n"
          ]
        }
      ],
      "source": [
        "lr_roc_auc_multiclass = roc_auc_score_multiclass(test, pred)\n",
        "print(lr_roc_auc_multiclass)"
      ],
      "id": "vTCDJhUGJJW4"
    },
    {
      "cell_type": "code",
      "execution_count": 42,
      "metadata": {
        "id": "sKQ-hbs_JJW4"
      },
      "outputs": [],
      "source": [],
      "id": "sKQ-hbs_JJW4"
    }
  ],
  "metadata": {
    "kernelspec": {
      "display_name": "Python 3",
      "language": "python",
      "name": "python3"
    },
    "language_info": {
      "codemirror_mode": {
        "name": "ipython",
        "version": 3
      },
      "file_extension": ".py",
      "mimetype": "text/x-python",
      "name": "python",
      "nbconvert_exporter": "python",
      "pygments_lexer": "ipython3",
      "version": "3.7.4"
    },
    "colab": {
      "provenance": []
    }
  },
  "nbformat": 4,
  "nbformat_minor": 5
}