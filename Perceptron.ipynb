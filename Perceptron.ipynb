{
  "nbformat": 4,
  "nbformat_minor": 0,
  "metadata": {
    "colab": {
      "provenance": []
    },
    "kernelspec": {
      "name": "python3",
      "display_name": "Python 3"
    },
    "language_info": {
      "name": "python"
    }
  },
  "cells": [
    {
      "cell_type": "markdown",
      "source": [
        "## **Implementation of Perceptron**"
      ],
      "metadata": {
        "id": "78vQ8eFYTIBc"
      }
    },
    {
      "cell_type": "markdown",
      "source": [
        "**A perceptron is a basic unit of a neural network used for binary classification tasks. It takes multiple input values, applies weights to these inputs, sums them up, adds a bias term, and then produces an output based on whether the sum is greater than a certain threshold. The output is typically a binary decision, like 0 or 1.**\n",
        "\n",
        "The activation is calculated as the weighted sum of the input features plus the bias:\n",
        "![image.png](data:image/png;base64,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)\n",
        "\n",
        "\n",
        "\n",
        "![image.png](data:image/png;base64,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)"
      ],
      "metadata": {
        "id": "TM7bKqQfQtI2"
      }
    },
    {
      "cell_type": "code",
      "execution_count": null,
      "metadata": {
        "id": "OylDGbJyNOfb"
      },
      "outputs": [],
      "source": [
        "def predict(row, weights):\n",
        "  activation = weights[0]  ## Storing Bias\n",
        "  for i in range(len(row)-1):  ## For Loop\n",
        "    activation += weights[i+1] * row[i]\n",
        "  return 1.0 if activation >=0 else 0"
      ]
    },
    {
      "cell_type": "markdown",
      "source": [
        "### **Loading Data**"
      ],
      "metadata": {
        "id": "fn1KCKqZTfvN"
      }
    },
    {
      "cell_type": "code",
      "source": [
        "import pandas as pd\n",
        "df = pd.read_csv(\n",
        "    'https://raw.githubusercontent.com/infiniaclub/NeuralNetworkDataset/main/sonar%20dataset.csv').values\n",
        "print(f\"Dataset : \\n{df}\")"
      ],
      "metadata": {
        "colab": {
          "base_uri": "https://localhost:8080/"
        },
        "id": "pNUFVk3lRXYk",
        "outputId": "6ab8859c-6935-4957-8ed5-983e97b455b7"
      },
      "execution_count": null,
      "outputs": [
        {
          "output_type": "stream",
          "name": "stdout",
          "text": [
            "Dataset : \n",
            "[[ 2.7810836   2.550537    0.        ]\n",
            " [ 1.46548937  2.36212508  0.        ]\n",
            " [ 3.39656169  4.40029353  0.        ]\n",
            " [ 1.38807019  1.85022032  0.        ]\n",
            " [ 3.06407232  3.00530597  0.        ]\n",
            " [ 7.62753121  2.75926224  1.        ]\n",
            " [ 5.33244125  2.08862677  1.        ]\n",
            " [ 6.92259672  1.77106367  1.        ]\n",
            " [ 8.67541865 -0.24206865  1.        ]\n",
            " [ 7.67375647  3.50856301  1.        ]]\n"
          ]
        }
      ]
    },
    {
      "cell_type": "markdown",
      "source": [
        "### **Initialize the weights and pass each rows for prediction**"
      ],
      "metadata": {
        "id": "_GW3iCOITlYs"
      }
    },
    {
      "cell_type": "code",
      "source": [
        "correct_predictions = 0\n",
        "weights = [-0.1, 0.20, -0.23]\n",
        "for row in df:\n",
        " prediction = predict(row, weights)\n",
        " if prediction == row[-1]:\n",
        "        correct_predictions += 1\n",
        " print(f\"Actual: {round(row[-1])}  Predicted: {round(prediction)}\")\n",
        "accuracy = (correct_predictions / len(df))*100\n",
        "print(f\"Accuracy is : {accuracy}%\")"
      ],
      "metadata": {
        "colab": {
          "base_uri": "https://localhost:8080/"
        },
        "id": "c4jgLgglRuLH",
        "outputId": "72b788e5-636a-4f95-a3c4-a3ae939e686b"
      },
      "execution_count": null,
      "outputs": [
        {
          "output_type": "stream",
          "name": "stdout",
          "text": [
            "Actual: 0  Predicted: 0\n",
            "Actual: 0  Predicted: 0\n",
            "Actual: 0  Predicted: 0\n",
            "Actual: 0  Predicted: 0\n",
            "Actual: 0  Predicted: 0\n",
            "Actual: 1  Predicted: 1\n",
            "Actual: 1  Predicted: 1\n",
            "Actual: 1  Predicted: 1\n",
            "Actual: 1  Predicted: 1\n",
            "Actual: 1  Predicted: 1\n",
            "Accuracy is : 100.0%\n"
          ]
        }
      ]
    },
    {
      "cell_type": "markdown",
      "source": [
        "## **Training Network Weights**\n",
        "***Estimate Perceptron weights using stochastic gradient descent***\n",
        "\n",
        "Stochastic gradient descent requires two parameters:\n",
        "\n",
        "- Learning Rate: Used to limit the amount each weight is corrected each time it is updated.\n",
        "- Epochs: The number of times to run through the training data while updating the weight.\n",
        "\n",
        "**There are 3 loops we need to perform in the function:**\n",
        "1. Loop over each epoch.\n",
        "2. Loop over each row in the training data for an epoch.\n",
        "3. Loop over each weight and update it for a row in an epoch.\n",
        "\n",
        "**We are constructing Single Layer Preceptron for AND Gate**"
      ],
      "metadata": {
        "id": "453Wk7zapBJf"
      }
    },
    {
      "cell_type": "code",
      "source": [
        "def training_weights(train_data, learning_rate, n_epoch):\n",
        "  weights = [00 for i in range(len(train_data[0]))]\n",
        "  for epoch in range(n_epoch):          ## Loop for number of epoch\n",
        "    sum_error = 0.0\n",
        "    for row in train_data:       ## Loop for each row in training\n",
        "      prediction = predict(row, weights)\n",
        "      error = row[-1] - prediction\n",
        "      sum_error += error**2             ## Mean Square Error\n",
        "      weights[0] += learning_rate * error  ## Updating Bias\n",
        "      for i in range(len(row)-1):       ## Loop for each weight update for row\n",
        "        weights[i+1] += learning_rate * error * row[i] ## Updating Weights\n",
        "    print(f\">epoch= {epoch}, learning_rate = {learning_rate}, MSE= {sum_error}\")\n",
        "  return weights"
      ],
      "metadata": {
        "id": "t4HMIsQ6pcCc"
      },
      "execution_count": null,
      "outputs": []
    },
    {
      "cell_type": "code",
      "source": [
        "logical_and_dataset = pd.read_csv(\"https://raw.githubusercontent.com/infiniaclub/NeuralNetworkDataset/main/logical_and.csv\").values\n",
        "learning_rate = 0.01  ## 1% Learning Rate\n",
        "n_epoch = 25    ## Change n_epoch or learning_rate to see effect on prediction\n",
        "weights = training_weights(logical_and_dataset, learning_rate, n_epoch)\n",
        "print(f\"\\n Computed Bias : {round(weights[0],3)} \\n Computed Weights_i: {weights[1:]} \\n\")"
      ],
      "metadata": {
        "colab": {
          "base_uri": "https://localhost:8080/",
          "height": 293
        },
        "id": "pxU_bA1ou0Yw",
        "outputId": "4fac571b-0228-4c4a-e1dc-f748a7ca1c71"
      },
      "execution_count": 1,
      "outputs": [
        {
          "output_type": "error",
          "ename": "NameError",
          "evalue": "name 'pd' is not defined",
          "traceback": [
            "\u001b[0;31m---------------------------------------------------------------------------\u001b[0m",
            "\u001b[0;31mNameError\u001b[0m                                 Traceback (most recent call last)",
            "\u001b[0;32m<ipython-input-1-84cc52a82b29>\u001b[0m in \u001b[0;36m<cell line: 1>\u001b[0;34m()\u001b[0m\n\u001b[0;32m----> 1\u001b[0;31m \u001b[0mlogical_and_dataset\u001b[0m \u001b[0;34m=\u001b[0m \u001b[0mpd\u001b[0m\u001b[0;34m.\u001b[0m\u001b[0mread_csv\u001b[0m\u001b[0;34m(\u001b[0m\u001b[0;34m\"https://raw.githubusercontent.com/infiniaclub/NeuralNetworkDataset/main/logical_and.csv\"\u001b[0m\u001b[0;34m)\u001b[0m\u001b[0;34m.\u001b[0m\u001b[0mvalues\u001b[0m\u001b[0;34m\u001b[0m\u001b[0;34m\u001b[0m\u001b[0m\n\u001b[0m\u001b[1;32m      2\u001b[0m \u001b[0mlearning_rate\u001b[0m \u001b[0;34m=\u001b[0m \u001b[0;36m0.01\u001b[0m  \u001b[0;31m## 1% Learning Rate\u001b[0m\u001b[0;34m\u001b[0m\u001b[0;34m\u001b[0m\u001b[0m\n\u001b[1;32m      3\u001b[0m \u001b[0mn_epoch\u001b[0m \u001b[0;34m=\u001b[0m \u001b[0;36m25\u001b[0m    \u001b[0;31m## Change n_epoch or learning_rate to see effect on prediction\u001b[0m\u001b[0;34m\u001b[0m\u001b[0;34m\u001b[0m\u001b[0m\n\u001b[1;32m      4\u001b[0m \u001b[0mweights\u001b[0m \u001b[0;34m=\u001b[0m \u001b[0mtraining_weights\u001b[0m\u001b[0;34m(\u001b[0m\u001b[0mlogical_and_dataset\u001b[0m\u001b[0;34m,\u001b[0m \u001b[0mlearning_rate\u001b[0m\u001b[0;34m,\u001b[0m \u001b[0mn_epoch\u001b[0m\u001b[0;34m)\u001b[0m\u001b[0;34m\u001b[0m\u001b[0;34m\u001b[0m\u001b[0m\n\u001b[1;32m      5\u001b[0m \u001b[0mprint\u001b[0m\u001b[0;34m(\u001b[0m\u001b[0;34mf\"\\n Computed Bias : {round(weights[0],3)} \\n Computed Weights_i: {weights[1:]} \\n\"\u001b[0m\u001b[0;34m)\u001b[0m\u001b[0;34m\u001b[0m\u001b[0;34m\u001b[0m\u001b[0m\n",
            "\u001b[0;31mNameError\u001b[0m: name 'pd' is not defined"
          ]
        }
      ]
    },
    {
      "cell_type": "markdown",
      "source": [
        "**Predicting Using the Computed Weights**"
      ],
      "metadata": {
        "id": "RWnE1NSMyuZx"
      }
    },
    {
      "cell_type": "code",
      "source": [
        "for row in logical_and_dataset:\n",
        " prediction = predict(row, weights)\n",
        " print(f\"Actual: {round(row[-1])}  Predicted: {round(prediction)}\")"
      ],
      "metadata": {
        "colab": {
          "base_uri": "https://localhost:8080/"
        },
        "id": "EbvQMjkJyf6W",
        "outputId": "b5300cf8-9463-4be1-cf2c-db7a3c153a8d"
      },
      "execution_count": null,
      "outputs": [
        {
          "output_type": "stream",
          "name": "stdout",
          "text": [
            "Actual: 1  Predicted: 1\n",
            "Actual: 0  Predicted: 0\n",
            "Actual: 0  Predicted: 0\n",
            "Actual: 0  Predicted: 0\n"
          ]
        }
      ]
    },
    {
      "cell_type": "markdown",
      "source": [
        "### **Example 1**\n",
        "\n",
        "**Features**\n",
        "\n",
        "- Age in Year\n",
        "- Experince in Year\n",
        "\n",
        "**Target Class**\n",
        "- 1 means Hired\n",
        "- 0 means Rejected"
      ],
      "metadata": {
        "id": "hQ0XFKEv2Z7r"
      }
    },
    {
      "cell_type": "code",
      "source": [
        "df = pd.read_csv('https://raw.githubusercontent.com/infiniaclub/NeuralNetworkDataset/main/job.csv')\n",
        "df.head(5)\n",
        "dataset = df.values\n",
        "l_rate = 0.1\n",
        "epoch = 25\n",
        "weights = training_weights(dataset, l_rate, epoch)\n",
        "print(f\"\\n Computed Bias : {round(weights[0],3)} \\n Computed Weights_i: {weights[1:]} \\n\")\n",
        "for row in dataset:\n",
        "  prediction = predict(row, weights)\n",
        "  print(f\"Actual: {round(row[-1])}  Predicted: {round(prediction)}\")"
      ],
      "metadata": {
        "colab": {
          "base_uri": "https://localhost:8080/"
        },
        "id": "y_Aj-z-c0tyH",
        "outputId": "b9b8961d-1997-4a3d-941f-5bd14a2f6074"
      },
      "execution_count": null,
      "outputs": [
        {
          "output_type": "stream",
          "name": "stdout",
          "text": [
            ">epoch= 0, learning_rate = 0.1, MSE= 8.0\n",
            ">epoch= 1, learning_rate = 0.1, MSE= 7.0\n",
            ">epoch= 2, learning_rate = 0.1, MSE= 9.0\n",
            ">epoch= 3, learning_rate = 0.1, MSE= 9.0\n",
            ">epoch= 4, learning_rate = 0.1, MSE= 9.0\n",
            ">epoch= 5, learning_rate = 0.1, MSE= 9.0\n",
            ">epoch= 6, learning_rate = 0.1, MSE= 9.0\n",
            ">epoch= 7, learning_rate = 0.1, MSE= 9.0\n",
            ">epoch= 8, learning_rate = 0.1, MSE= 9.0\n",
            ">epoch= 9, learning_rate = 0.1, MSE= 9.0\n",
            ">epoch= 10, learning_rate = 0.1, MSE= 9.0\n",
            ">epoch= 11, learning_rate = 0.1, MSE= 9.0\n",
            ">epoch= 12, learning_rate = 0.1, MSE= 9.0\n",
            ">epoch= 13, learning_rate = 0.1, MSE= 9.0\n",
            ">epoch= 14, learning_rate = 0.1, MSE= 9.0\n",
            ">epoch= 15, learning_rate = 0.1, MSE= 9.0\n",
            ">epoch= 16, learning_rate = 0.1, MSE= 9.0\n",
            ">epoch= 17, learning_rate = 0.1, MSE= 9.0\n",
            ">epoch= 18, learning_rate = 0.1, MSE= 9.0\n",
            ">epoch= 19, learning_rate = 0.1, MSE= 9.0\n",
            ">epoch= 20, learning_rate = 0.1, MSE= 9.0\n",
            ">epoch= 21, learning_rate = 0.1, MSE= 9.0\n",
            ">epoch= 22, learning_rate = 0.1, MSE= 9.0\n",
            ">epoch= 23, learning_rate = 0.1, MSE= 1.0\n",
            ">epoch= 24, learning_rate = 0.1, MSE= 0.0\n",
            "\n",
            " Computed Bias : -2.3 \n",
            " Computed Weights_i: [-2.200000000000005, 23.000000000000004] \n",
            "\n",
            "Actual: 0  Predicted: 0\n",
            "Actual: 1  Predicted: 1\n",
            "Actual: 0  Predicted: 0\n",
            "Actual: 0  Predicted: 0\n",
            "Actual: 0  Predicted: 0\n",
            "Actual: 1  Predicted: 1\n",
            "Actual: 1  Predicted: 1\n",
            "Actual: 0  Predicted: 0\n",
            "Actual: 1  Predicted: 1\n",
            "Actual: 0  Predicted: 0\n",
            "Actual: 1  Predicted: 1\n"
          ]
        }
      ]
    }
  ]
}