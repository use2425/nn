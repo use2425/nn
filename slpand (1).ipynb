{
  "cells": [
    {
      "cell_type": "code",
      "execution_count": 5,
      "id": "c9991b18-c1f8-4e39-823e-a7ae6424f586",
      "metadata": {
        "id": "c9991b18-c1f8-4e39-823e-a7ae6424f586"
      },
      "outputs": [],
      "source": [
        "import numpy as np\n",
        "\n",
        "logical_and_dataset=np.array([[1, 1, 1],\n",
        " [1, 0, 0],\n",
        " [0, 1, 0],\n",
        " [0, 0, 0]])\n",
        "\n"
      ]
    },
    {
      "cell_type": "code",
      "execution_count": 6,
      "id": "2e1f72c0-7c83-4cc7-b5da-769d65b7320a",
      "metadata": {
        "id": "2e1f72c0-7c83-4cc7-b5da-769d65b7320a"
      },
      "outputs": [],
      "source": [
        "def predict(row,weights):\n",
        "    activation=weights[0]\n",
        "    for i in range(len(row)-1):\n",
        "        activation += weights[i+1]*row[i]\n",
        "    return 1 if activation >=0 else 0\n"
      ]
    },
    {
      "cell_type": "code",
      "execution_count": 7,
      "id": "cc40fd39-d9a4-40c0-a08a-b68d60921b66",
      "metadata": {
        "colab": {
          "base_uri": "https://localhost:8080/"
        },
        "id": "cc40fd39-d9a4-40c0-a08a-b68d60921b66",
        "outputId": "56a3fa53-6002-47a1-a5ba-b0164046f73c"
      },
      "outputs": [
        {
          "output_type": "stream",
          "name": "stdout",
          "text": [
            ">epoch =0, learning_rate=0.01,MSE=1\n",
            ">epoch =1, learning_rate=0.01,MSE=3\n",
            ">epoch =2, learning_rate=0.01,MSE=2\n",
            ">epoch =3, learning_rate=0.01,MSE=2\n",
            ">epoch =4, learning_rate=0.01,MSE=3\n",
            ">epoch =5, learning_rate=0.01,MSE=2\n",
            ">epoch =6, learning_rate=0.01,MSE=2\n",
            ">epoch =7, learning_rate=0.01,MSE=0\n",
            ">epoch =8, learning_rate=0.01,MSE=0\n",
            ">epoch =9, learning_rate=0.01,MSE=0\n",
            "\n",
            " Computed Bias : -0.03 \n",
            " Computed Weights_i: [0.01, 0.02] \n",
            "\n"
          ]
        }
      ],
      "source": [
        "def training_weights(train_data,learning_rate,n_epoch):\n",
        "    weights=[0 for i in range(len(train_data[0]))]\n",
        "    for epoch in range(n_epoch):\n",
        "        sum_err=0\n",
        "        for row in train_data:\n",
        "            prediction=predict(row,weights)\n",
        "            err=row[-1]-prediction\n",
        "            sum_err +=err**2\n",
        "            weights[0] += learning_rate*err\n",
        "            for i in range(len(row)-1):\n",
        "                weights[i+1] += learning_rate*err*row[i]\n",
        "        print(f\">epoch ={epoch}, learning_rate={learning_rate},MSE={sum_err}\")\n",
        "    return weights\n",
        "\n",
        "weights = training_weights(logical_and_dataset, learning_rate=0.01, n_epoch=10)\n",
        "print(f\"\\n Computed Bias : {round(weights[0],3)} \\n Computed Weights_i: {weights[1:]} \\n\")\n"
      ]
    },
    {
      "cell_type": "code",
      "source": [
        "for row in logical_and_dataset:\n",
        "    prediction=predict(row,weights)\n",
        "    print(f\"Actual {round(row[-1])} Predicted :{prediction}\")\n",
        "\n",
        "\n"
      ],
      "metadata": {
        "colab": {
          "base_uri": "https://localhost:8080/"
        },
        "id": "5rf7qJxxhgIf",
        "outputId": "b18d1bcc-7601-40cb-a6ba-1dec1dbef69e"
      },
      "id": "5rf7qJxxhgIf",
      "execution_count": 8,
      "outputs": [
        {
          "output_type": "stream",
          "name": "stdout",
          "text": [
            "Actual 1 Predicted :1\n",
            "Actual 0 Predicted :0\n",
            "Actual 0 Predicted :0\n",
            "Actual 0 Predicted :0\n"
          ]
        }
      ]
    }
  ],
  "metadata": {
    "kernelspec": {
      "display_name": "Python 3 (ipykernel)",
      "language": "python",
      "name": "python3"
    },
    "language_info": {
      "codemirror_mode": {
        "name": "ipython",
        "version": 3
      },
      "file_extension": ".py",
      "mimetype": "text/x-python",
      "name": "python",
      "nbconvert_exporter": "python",
      "pygments_lexer": "ipython3",
      "version": "3.11.5"
    },
    "colab": {
      "provenance": []
    }
  },
  "nbformat": 4,
  "nbformat_minor": 5
}
