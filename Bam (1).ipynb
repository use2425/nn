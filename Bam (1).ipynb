{
 "cells": [
  {
   "cell_type": "code",
   "execution_count": 2,
   "id": "180f8593",
   "metadata": {},
   "outputs": [
    {
     "name": "stdout",
     "output_type": "stream",
     "text": [
      "Pattern X:\n",
      "[array([-1,  1, -1,  1,  1]), array([-1,  1, -1,  1, -1]), array([-1,  1, -1,  1, -1]), array([-1,  1, -1,  1, -1])]\n",
      "Pattern Y:\n",
      "[array([ 1, -1,  1, -1]), array([ 1, -1, -1,  1]), array([ 1, -1, -1,  1]), array([ 1, -1, -1,  1])]\n"
     ]
    }
   ],
   "source": [
    "import numpy as np\n",
    "\n",
    "n, p, q = 5, 4, 2\n",
    "\n",
    "x = np.array([[0, 1, 0, 1, 0], [1, 1, 0, 0, 0]])\n",
    "y = np.array([[1, 0, 0, 1], [0, 1, 0, 1]])\n",
    "\n",
    "mem_vectors_x, mem_vectors_y = 2 * x - 1, 2 * y - 1\n",
    "\n",
    "wt_matrix = sum(np.outer(mem_x, mem_y) for mem_x, mem_y in zip(mem_vectors_x, mem_vectors_y))\n",
    "\n",
    "probe, signal_x, signal_y = np.array([0, 1, 0, 1, 1]), 2 * np.array([0, 1, 0, 1, 1]) - 1, np.random.choice([-1, 1], p)\n",
    "\n",
    "pattern_x, pattern_y = [signal_x], [signal_y]\n",
    "\n",
    "flag, k = 0, 1\n",
    "\n",
    "while flag != 1:\n",
    "    act_y = np.dot(signal_x, wt_matrix)\n",
    "    signal_y = np.where(act_y > 0, 1, -1)\n",
    "\n",
    "    compare_y = np.array_equal(signal_y, pattern_y[-2]) if k > 1 else False\n",
    "    pattern_y.append(signal_y)\n",
    "\n",
    "    act_x = np.dot(signal_y, wt_matrix.T)\n",
    "    signal_x = np.where(act_x > 0, 1, -1)\n",
    "\n",
    "    compare_x = np.array_equal(signal_x, pattern_x[-2]) if k > 1 else False\n",
    "    pattern_x.append(signal_x)\n",
    "\n",
    "    flag = int(compare_x and compare_y)\n",
    "    k += 1\n",
    "\n",
    "print(\"Pattern X:\")\n",
    "print(pattern_x)\n",
    "print(\"Pattern Y:\")\n",
    "print(pattern_y)\n"
   ]
  },
  {
   "cell_type": "code",
   "execution_count": null,
   "id": "21d31ef3",
   "metadata": {},
   "outputs": [],
   "source": []
  }
 ],
 "metadata": {
  "kernelspec": {
   "display_name": "Python 3 (ipykernel)",
   "language": "python",
   "name": "python3"
  },
  "language_info": {
   "codemirror_mode": {
    "name": "ipython",
    "version": 3
   },
   "file_extension": ".py",
   "mimetype": "text/x-python",
   "name": "python",
   "nbconvert_exporter": "python",
   "pygments_lexer": "ipython3",
   "version": "3.11.4"
  }
 },
 "nbformat": 4,
 "nbformat_minor": 5
}
