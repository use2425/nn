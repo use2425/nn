{
 "cells": [
  {
   "cell_type": "markdown",
   "id": "f58b0ac6",
   "metadata": {},
   "source": [
    "# Without hamming distance "
   ]
  },
  {
   "cell_type": "code",
   "execution_count": 15,
   "id": "fe88fe3f",
   "metadata": {},
   "outputs": [],
   "source": [
    "import numpy as np\n",
    "\n",
    "def cam(member_vector, search_vector):\n",
    "    # Convert strings to numpy arrays\n",
    "    member_vector = np.array([list(map(int, line.strip())) for line in member_vector])\n",
    "    search_vector = np.array(list(map(int, search_vector.strip())))\n",
    "\n",
    "    # Initialize CAM result\n",
    "    cam_result = None\n",
    "    \n",
    "    # Iterate through each row of the member vector\n",
    "    for idx, row in enumerate(member_vector):\n",
    "        # Check if the search vector matches the row in the member vector\n",
    "        if np.array_equal(row, search_vector):\n",
    "            cam_result = idx  # If match found, set the CAM result to the index\n",
    "            break  # Break the loop since we found a match\n",
    "    \n",
    "    return cam_result"
   ]
  },
  {
   "cell_type": "code",
   "execution_count": 17,
   "id": "9ed89b03",
   "metadata": {},
   "outputs": [
    {
     "name": "stdout",
     "output_type": "stream",
     "text": [
      "CAM Match found at index: 2\n"
     ]
    }
   ],
   "source": [
    "member_vector = [\"110000\",\"000011\",\"001100\"]\n",
    "# Define the search vector\n",
    "search_vector = \"001100\"\n",
    "# Perform CAM\n",
    "result = cam(member_vector, search_vector)\n",
    "# Print the CAM result\n",
    "if result is not None:\n",
    "    print(\"CAM Match found at index:\", result)\n",
    "else:\n",
    "    print(\"No match found in the member vector.\")\n"
   ]
  },
  {
   "cell_type": "markdown",
   "id": "2b99652a",
   "metadata": {},
   "source": [
    "# Using Hamming based recalling "
   ]
  },
  {
   "cell_type": "code",
   "execution_count": 18,
   "id": "609548e5",
   "metadata": {},
   "outputs": [
    {
     "name": "stdout",
     "output_type": "stream",
     "text": [
      "CAM Match found at index: 2\n",
      "001100\n"
     ]
    }
   ],
   "source": [
    "def hamming_distance(pattern1, pattern2):\n",
    "    return np.sum(pattern1 != pattern2)\n",
    "\n",
    "def cam(member_vector, search_vector):\n",
    "    # Convert strings to numpy arrays\n",
    "    member_vector = np.array([list(map(int, line.strip())) for line in member_vector])\n",
    "    search_vector = np.array(list(map(int, search_vector.strip())))\n",
    "\n",
    "    # Initialize CAM result\n",
    "    min_distance = float('inf')\n",
    "    cam_result = None\n",
    "\n",
    "    # Iterate through each row of the member vector\n",
    "    for idx, row in enumerate(member_vector):\n",
    "        # Calculate Hamming distance between search vector and current row\n",
    "        distance = hamming_distance(row, search_vector)\n",
    "        if distance < min_distance:\n",
    "            min_distance = distance\n",
    "            cam_result = idx\n",
    "\n",
    "    return cam_result\n",
    "\n",
    "member_vector = [\"110000\",\"000011\",\"001100\"]\n",
    "# Define the search vector\n",
    "search_vector = \"001000\"\n",
    "# Perform CAM\n",
    "result = cam(member_vector, search_vector)\n",
    "# Print the CAM result\n",
    "if result is not None:\n",
    "    print(\"CAM Match found at index:\", result)\n",
    "else:\n",
    "    print(\"No match found in the member vector.\")\n",
    "\n",
    "recall_vector=member_vector[result]\n",
    "print(recall_vector)"
   ]
  },
  {
   "cell_type": "markdown",
   "id": "10110e74",
   "metadata": {},
   "source": [
    "# Bidirectional Associative Memory"
   ]
  },
  {
   "cell_type": "code",
   "execution_count": 5,
   "id": "f4ad9ae6",
   "metadata": {},
   "outputs": [],
   "source": [
    "import numpy as np\n",
    "\n",
    "n = 5  # Dimension of Fx\n",
    "p = 4  # Dimension of Fy\n",
    "q = 2  # Number of associations\n",
    "\n",
    "# Specify Fx vectors\n",
    "x = np.array([[0, 1, 0, 1, 0], [1, 1, 0, 0, 0]])\n",
    "\n",
    "# Specify Fy vectors\n",
    "y = np.array([[1, 0, 0, 1], [0, 1, 0, 1]])\n",
    "\n",
    "# Convert to bipolar\n",
    "mem_vectors_x = 2 * x - 1\n",
    "mem_vectors_y = 2 * y - 1\n"
   ]
  },
  {
   "cell_type": "code",
   "execution_count": 6,
   "id": "9eb3e567",
   "metadata": {},
   "outputs": [],
   "source": [
    "# Initialize weight matrix\n",
    "wt_matrix = np.zeros((n, p))\n",
    "\n",
    "# Compute weight matrix\n",
    "for i in range(q):\n",
    "    wt_matrix += np.outer(mem_vectors_x[i], mem_vectors_y[i])\n",
    "\n",
    "# Set up time index\n",
    "k = 1\n",
    "\n",
    "# Set up probe and signals\n",
    "probe = np.array([0, 1, 0, 1, 1])\n",
    "signal_x = 2 * probe - 1\n",
    "signal_y = np.random.choice([-1, 1], size=p)\n",
    "\n",
    "# Initialize pattern arrays\n",
    "pattern_x = [signal_x]\n",
    "pattern_y = [signal_y]\n"
   ]
  },
  {
   "cell_type": "code",
   "execution_count": 7,
   "id": "5cacc3f4",
   "metadata": {},
   "outputs": [
    {
     "name": "stdout",
     "output_type": "stream",
     "text": [
      "Pattern X:\n",
      "[array([-1,  1, -1,  1,  1]), array([-1,  1, -1,  1, -1]), array([-1,  1, -1,  1, -1]), array([-1,  1, -1,  1, -1])]\n",
      "Pattern Y:\n",
      "[array([1, 1, 1, 1]), array([ 1, -1, -1,  1]), array([ 1, -1, -1,  1]), array([ 1, -1, -1,  1])]\n"
     ]
    }
   ],
   "source": [
    "# Initialize flag for bidirectional equilibrium\n",
    "flag = 0\n",
    "\n",
    "while flag != 1:\n",
    "    # Compute activations for Fx\n",
    "    act_y = np.dot(signal_x, wt_matrix)\n",
    "\n",
    "    # Update Fy signals based on activations\n",
    "    signal_y = np.where(act_y > 0, 1, -1)\n",
    "\n",
    "    # Compare for stability\n",
    "    if k > 1:\n",
    "        compare_y = np.array_equal(signal_y, pattern_y[-2])\n",
    "    else:\n",
    "        compare_y = False\n",
    "\n",
    "    # Store Fy pattern\n",
    "    pattern_y.append(signal_y)\n",
    "\n",
    "    # Compute activations for Fy\n",
    "    act_x = np.dot(signal_y, wt_matrix.T)\n",
    "\n",
    "    # Update Fx signals based on activations\n",
    "    signal_x = np.where(act_x > 0, 1, -1)\n",
    "\n",
    "    # Compare for stability\n",
    "    if k > 1:\n",
    "        compare_x = np.array_equal(signal_x, pattern_x[-2])\n",
    "    else:\n",
    "        compare_x = False\n",
    "\n",
    "    # Store Fx pattern\n",
    "    pattern_x.append(signal_x)\n",
    "\n",
    "    # Check for bidirectional equilibrium\n",
    "    flag = int(compare_x and compare_y)\n",
    "\n",
    "    # Increment time\n",
    "    k += 1\n",
    "\n",
    "# Display update traces\n",
    "print(\"Pattern X:\")\n",
    "print(pattern_x)\n",
    "print(\"Pattern Y:\")\n",
    "print(pattern_y)"
   ]
  }
 ],
 "metadata": {
  "kernelspec": {
   "display_name": "Python 3 (ipykernel)",
   "language": "python",
   "name": "python3"
  },
  "language_info": {
   "codemirror_mode": {
    "name": "ipython",
    "version": 3
   },
   "file_extension": ".py",
   "mimetype": "text/x-python",
   "name": "python",
   "nbconvert_exporter": "python",
   "pygments_lexer": "ipython3",
   "version": "3.9.12"
  }
 },
 "nbformat": 4,
 "nbformat_minor": 5
}
