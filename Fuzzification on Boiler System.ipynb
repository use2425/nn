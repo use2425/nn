{
 "cells": [
  {
   "cell_type": "markdown",
   "id": "c3642b60",
   "metadata": {},
   "source": [
    "# Fuzzification"
   ]
  },
  {
   "cell_type": "code",
   "execution_count": 2,
   "id": "4face930",
   "metadata": {},
   "outputs": [],
   "source": [
    "import numpy as np\n",
    "import pandas as pd"
   ]
  },
  {
   "cell_type": "code",
   "execution_count": 7,
   "id": "aad9cba4",
   "metadata": {},
   "outputs": [],
   "source": [
    "## For triangular area"
   ]
  },
  {
   "cell_type": "code",
   "execution_count": 1,
   "id": "bc161dad",
   "metadata": {},
   "outputs": [],
   "source": [
    "#creating triangular rule\n",
    "def tri_mem(x,l,c,r):\n",
    "    if x<c or x>=l:\n",
    "        return((x-l)/(c-l))\n",
    "    elif x<=r or x>c:\n",
    "        return((r-x)/(r-c))\n",
    "    else :\n",
    "       return(0)"
   ]
  },
  {
   "cell_type": "code",
   "execution_count": 3,
   "id": "ab2c8929",
   "metadata": {
    "scrolled": true
   },
   "outputs": [
    {
     "name": "stdout",
     "output_type": "stream",
     "text": [
      "the Crisp output for Heating power and Valve opening are :  (4.954545454545455, 1.0)\n"
     ]
    }
   ],
   "source": [
    "def fuzzy_controller(temperature, pressure):\n",
    "    # Define fuzzy sets for temperature\n",
    "    low = [-5,10,25]  \n",
    "    BA = [15, 30, 45]\n",
    "    Avg = [40, 50, 60]\n",
    "    AAvg=[55,70,85]\n",
    "    H=[75,90,105]\n",
    "    # Define fuzzy sets for pressure\n",
    "    low_p = [0.25, 1, 1.75]  \n",
    "    BA_p = [1.25, 2, 2.75]  \n",
    "    Avg_p = [2,3,4]\n",
    "    AAvg_p=[3.25,4,4.75]\n",
    "    H_p=[4.25,5,5.75]\n",
    "    #for membership of temp\n",
    "    low_membership = tri_mem(temperature, *low)\n",
    "    BA_membership = tri_mem(temperature, *BA)\n",
    "    Avg_membership = tri_mem(temperature, *Avg)\n",
    "    AAvg_membership = tri_mem(temperature, *AAvg)\n",
    "    H_membership = tri_mem(temperature, *H)\n",
    "    #for membership of temp\n",
    "    low_p_membership = tri_mem(pressure, *low_p)\n",
    "    BA_p_membership = tri_mem(pressure, *BA_p)\n",
    "    Avg_p_membership = tri_mem(pressure, *Avg_p)\n",
    "    AAvg_p_membership = tri_mem(pressure, *AAvg_p)\n",
    "    H_p_membership = tri_mem(pressure, *H_p)\n",
    "    #rule1 Temp is BA and Pressure is BA\n",
    "    z1=min(BA_membership,BA_p_membership)\n",
    "    #rule2 Temp is low Pressure is low\n",
    "    z2=min(low_membership,low_p_membership)\n",
    "    #for defuzzification considering heatingpower(the consequent part)\n",
    "    hp_low = [0.25,1,1.75]  \n",
    "    hp_BA = [1.25, 2, 2.75]\n",
    "    hp_Avg = [2, 3, 4]\n",
    "    hp_AAvg=[3.25,4,4.75]\n",
    "    hp_H=[4.25,5,5.75]\n",
    "    #for valve_opening\n",
    "    vo_low = [0.25,1,1.75]  \n",
    "    vo_BA = [1.25, 2, 2.75]\n",
    "    vo_Avg = [2, 3, 4]\n",
    "    vo_AAvg=[3.25,4,4.75]\n",
    "    vo_H=[4.25,5,5.75]\n",
    "    #defuzzification\n",
    "    #conseq1 hp will be AAvg and VO will be BA\n",
    "    #for hp rule1:medhigh aur rule2:high\n",
    "    num=(z1*(0.5*(hp_AAvg[2]-hp_AAvg[0])*hp_AAvg[1]))+(z2*(0.5*1*(hp_H[2]-hp_H[0])*hp_H[1]))\n",
    "    denom=(z1*(0.5*(hp_AAvg[2]-hp_AAvg[0])))+(z2*(0.5*1*(hp_H[2]-hp_H[0])))\n",
    "    C_hp=num/denom\n",
    "    #for vo rule1:medlow=BA aur rule2:small=low \n",
    "\n",
    "    num_1=(z1*(0.5*(vo_BA[2]-vo_BA[0])*vo_BA[1]))+(z2*(0.5*1*(vo_low[2]-vo_low[0])*vo_low[1])) \n",
    "\n",
    "    denom_1=(z1*(0.5*(vo_BA[2]-vo_BA[0])*vo_BA[1]))+(z2*(0.5*1*(vo_low[2]-vo_low[0]))) \n",
    "\n",
    "    C_vo=num_1/denom_1 \n",
    "    if C_hp ==0 or C_vo == 0: \n",
    "        return \"Unknown\" \n",
    "    else: \n",
    "        return (C_hp, C_vo) \n",
    "           \n",
    "# Example usage\n",
    "temperature_input = 16.5  # Input temperature\n",
    "pressure_input = 1.3    # Input pressure\n",
    "boiler_control = fuzzy_controller(temperature_input, pressure_input)\n",
    "print('the Crisp output for Heating power and Valve opening are : ',boiler_control)\n"
   ]
  },
  {
   "cell_type": "markdown",
   "id": "04206eea",
   "metadata": {},
   "source": [
    "## For trapezoidal"
   ]
  },
  {
   "cell_type": "code",
   "execution_count": 11,
   "id": "6b5f4dfa",
   "metadata": {},
   "outputs": [
    {
     "name": "stdout",
     "output_type": "stream",
     "text": [
      "The Crisp output for Valve opening and Heating power :  (1.142857142857143, 9.714285714285715)\n"
     ]
    }
   ],
   "source": [
    "import pandas as pd\n",
    "import numpy as np\n",
    "\n",
    "# Creating trapezoidal rule\n",
    "def trap_mem(x, a, b, c, d):\n",
    "    if x <= a or x >= d:\n",
    "        return 0\n",
    "    elif a < x <= b:\n",
    "        return (x - a) / (b - a)\n",
    "    elif c <= x < d:\n",
    "        return (d - x) / (d - c)\n",
    "    else:\n",
    "        return 1\n",
    "\n",
    "def trapezoid_area(a, b, c, d):\n",
    "    h = 1  # Height of the trapezoid\n",
    "    area = 0.5 * h * (b - a + d - c) + (d - c) * h\n",
    "    return area\n",
    "\n",
    "def fuzzy_controller(temperature, pressure):\n",
    "    # Define fuzzy sets for temperature\n",
    "    low = [-5, 10, 20, 25]\n",
    "    BA = [15, 25, 35, 45]\n",
    "    Avg = [40, 45, 55, 60]\n",
    "    AAvg = [55, 65, 75, 85]\n",
    "    H = [75, 85, 95, 105]\n",
    "\n",
    "    # Define fuzzy sets for pressure\n",
    "    low_p = [0.25, 0.5, 1, 1.75]  \n",
    "    BA_p = [1.25, 1.75, 2, 2.75]  \n",
    "    Avg_p = [2, 2.5, 3, 4]\n",
    "    AAvg_p = [3.25, 3.75, 4, 4.75]\n",
    "    H_p = [4.25, 4.75, 5, 5.75]\n",
    "\n",
    "    # Membership degrees for temperature\n",
    "    low_membership = trap_mem(temperature, *low)\n",
    "    BA_membership = trap_mem(temperature, *BA)\n",
    "    Avg_membership = trap_mem(temperature, *Avg)\n",
    "    AAvg_membership = trap_mem(temperature, *AAvg)\n",
    "    H_membership = trap_mem(temperature, *H)\n",
    "\n",
    "    # Membership degrees for pressure\n",
    "    low_p_membership = trap_mem(pressure, *low_p)\n",
    "    BA_p_membership = trap_mem(pressure, *BA_p)\n",
    "    Avg_p_membership = trap_mem(pressure, *Avg_p)\n",
    "    AAvg_p_membership = trap_mem(pressure, *AAvg_p)\n",
    "    H_p_membership = trap_mem(pressure, *H_p)\n",
    "\n",
    "    # Rule 1: Temperature is BA and Pressure is BA\n",
    "    z1 = min(BA_membership, BA_p_membership)\n",
    "   \n",
    "    # Rule 2: Temperature is low and Pressure is low\n",
    "    z2 = min(low_membership, low_p_membership)\n",
    "\n",
    "    # Defuzzification for heating power\n",
    "    hp_low = [0.25, 1,1, 1.75]\n",
    "    hp_BA = [1.25, 2,2, 2.75]\n",
    "    hp_Avg = [2, 3,3, 4]\n",
    "    hp_AAvg = [3.25,4, 4, 4.75]\n",
    "    hp_H = [4.25, 5,5, 5.75]\n",
    "# Calculate area for each membership function\n",
    "    hp_low_area = trapezoid_area(*hp_low)\n",
    "    hp_BA_area = trapezoid_area(*hp_BA )\n",
    "    hp_Avg_area = trapezoid_area(*hp_Avg)\n",
    "    hp_AAvg_area = trapezoid_area(*hp_AAvg)\n",
    "    hp_H_area = trapezoid_area(*hp_H)\n",
    "   #for hp rule1:medhigh aur rule2:high\n",
    "    num = (z1 * (0.5 * (hp_BA_area) * hp_AAvg[1])) + (z2 * (0.5 * 1 * (hp_H_area) * hp_H[1]))\n",
    "    denom = (z1 * (0.5 * (hp_AAvg[2] - hp_AAvg[0]))) + (z2 * (0.5 * 1 * (hp_H[2] - hp_H[0])))\n",
    "    C_hp = num / denom\n",
    "\n",
    "    # Defuzzification for valve opening\n",
    "    vo_low = [0.25, 1, 1.75]\n",
    "    vo_BA = [1.25, 2, 2.75]\n",
    "    vo_Avg = [2, 3, 4]\n",
    "    vo_AAvg = [3.25, 4, 4.75]\n",
    "    vo_H = [4.25, 5, 5.75]\n",
    "\n",
    "    num = (z1 * (0.5 * (vo_BA[2] - vo_BA[0]) * vo_BA[1])) + (z2 * (0.5 * 1 * (vo_low[2] - vo_low[0]) * vo_low[1]))\n",
    "    denom = (z1 * (0.5 * (vo_BA[2] - vo_BA[0]))) + (z2 * (0.5 * 1 * (vo_low[2] - vo_low[0])))\n",
    "    C_vo = num / denom\n",
    "\n",
    "    if C_vo == 0 or C_hp == 0:\n",
    "        return \"Unknown\"\n",
    "    else:\n",
    "        return (C_vo, C_hp)\n",
    "\n",
    "# Example usage\n",
    "temperature_input = 16.5  # Input temperature\n",
    "pressure_input = 1.3      # Input pressure\n",
    "boiler_control = fuzzy_controller(temperature_input, pressure_input)\n",
    "print('The Crisp output for Valve opening and Heating power : ', boiler_control)"
   ]
  },
  {
   "cell_type": "code",
   "execution_count": null,
   "id": "da1d2530",
   "metadata": {},
   "outputs": [],
   "source": []
  }
 ],
 "metadata": {
  "kernelspec": {
   "display_name": "Python 3 (ipykernel)",
   "language": "python",
   "name": "python3"
  },
  "language_info": {
   "codemirror_mode": {
    "name": "ipython",
    "version": 3
   },
   "file_extension": ".py",
   "mimetype": "text/x-python",
   "name": "python",
   "nbconvert_exporter": "python",
   "pygments_lexer": "ipython3",
   "version": "3.9.12"
  }
 },
 "nbformat": 4,
 "nbformat_minor": 5
}
