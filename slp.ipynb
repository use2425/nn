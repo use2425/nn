{
 "cells": [
  {
   "cell_type": "code",
   "execution_count": 28,
   "id": "67f50133",
   "metadata": {},
   "outputs": [],
   "source": [
    "def predict(row,wt):\n",
    "    activation=wt[0]#storing biased\n",
    "    for i in range(len(row)-1):#because last is target\n",
    "        activation+=wt[i+1]*row[i]\n",
    "    return 1.0 if activation >=0 else 0    "
   ]
  },
  {
   "cell_type": "code",
   "execution_count": 29,
   "id": "657196e1",
   "metadata": {},
   "outputs": [],
   "source": [
    "#dataload\n",
    "import pandas as pd\n",
    "df=pd.read_csv(\"C:/Users/Tara/OneDrive/Desktop/dataset/sonar dataset.csv\").values\n",
    "#since we want in array , it will convert them into array "
   ]
  },
  {
   "cell_type": "code",
   "execution_count": 30,
   "id": "b368dbe1",
   "metadata": {},
   "outputs": [
    {
     "data": {
      "text/plain": [
       "array([[ 2.7810836 ,  2.550537  ,  0.        ],\n",
       "       [ 1.46548937,  2.36212508,  0.        ],\n",
       "       [ 3.39656169,  4.40029353,  0.        ],\n",
       "       [ 1.38807019,  1.85022032,  0.        ],\n",
       "       [ 3.06407232,  3.00530597,  0.        ],\n",
       "       [ 7.62753121,  2.75926224,  1.        ],\n",
       "       [ 5.33244125,  2.08862677,  1.        ],\n",
       "       [ 6.92259672,  1.77106367,  1.        ],\n",
       "       [ 8.67541865, -0.24206865,  1.        ],\n",
       "       [ 7.67375647,  3.50856301,  1.        ]])"
      ]
     },
     "execution_count": 30,
     "metadata": {},
     "output_type": "execute_result"
    }
   ],
   "source": [
    "df"
   ]
  },
  {
   "cell_type": "code",
   "execution_count": 31,
   "id": "a872c772",
   "metadata": {},
   "outputs": [
    {
     "name": "stdout",
     "output_type": "stream",
     "text": [
      "Actual: 0  Predicted: 0\n",
      "Actual: 0  Predicted: 0\n",
      "Actual: 0  Predicted: 0\n",
      "Actual: 0  Predicted: 0\n",
      "Actual: 0  Predicted: 0\n",
      "Actual: 1  Predicted: 1\n",
      "Actual: 1  Predicted: 1\n",
      "Actual: 1  Predicted: 1\n",
      "Actual: 1  Predicted: 1\n",
      "Actual: 1  Predicted: 1\n"
     ]
    }
   ],
   "source": [
    "#weight initialize\n",
    "\n",
    "wt=[-0.1,0.20,-0.23]#bias,f1 ka weight, f2 ka wt\n",
    "for row in df:\n",
    "    prediction=predict(row,wt)\n",
    "    print(f\"Actual: {round(row[-1])}  Predicted: {round(prediction)}\")"
   ]
  },
  {
   "cell_type": "code",
   "execution_count": 25,
   "id": "f5f91636",
   "metadata": {},
   "outputs": [
    {
     "data": {
      "text/plain": [
       "array([[ 2.7810836 ,  2.550537  ,  0.        ],\n",
       "       [ 1.46548937,  2.36212508,  0.        ],\n",
       "       [ 3.39656169,  4.40029353,  0.        ],\n",
       "       [ 1.38807019,  1.85022032,  0.        ],\n",
       "       [ 3.06407232,  3.00530597,  0.        ],\n",
       "       [ 7.62753121,  2.75926224,  1.        ],\n",
       "       [ 5.33244125,  2.08862677,  1.        ],\n",
       "       [ 6.92259672,  1.77106367,  1.        ],\n",
       "       [ 8.67541865, -0.24206865,  1.        ],\n",
       "       [ 7.67375647,  3.50856301,  1.        ]])"
      ]
     },
     "execution_count": 25,
     "metadata": {},
     "output_type": "execute_result"
    }
   ],
   "source": [
    "#prac\n",
    "import pandas as pd\n",
    "data=pd.read_csv(\"C:/Users/Tara/OneDrive/Desktop/dataset/sonar dataset.csv\").values\n",
    "data"
   ]
  },
  {
   "cell_type": "code",
   "execution_count": 32,
   "id": "b4d2fd6c",
   "metadata": {},
   "outputs": [],
   "source": [
    "wt=[-0.1,0.20,-0.23]\n",
    "\n",
    "def predict(row,wt):\n",
    "    activation=wt[0]\n",
    "    for i in range (len(row)-1):\n",
    "        activation+=wt[i+1]*row[i]\n",
    "    return 1.0 if activation >=0 else 0   \n",
    "\n"
   ]
  },
  {
   "cell_type": "code",
   "execution_count": 33,
   "id": "bd00b5aa",
   "metadata": {},
   "outputs": [
    {
     "name": "stdout",
     "output_type": "stream",
     "text": [
      "Actual: 0  Predicted: 0\n",
      "Actual: 0  Predicted: 0\n",
      "Actual: 0  Predicted: 0\n",
      "Actual: 0  Predicted: 0\n",
      "Actual: 0  Predicted: 0\n",
      "Actual: 1  Predicted: 1\n",
      "Actual: 1  Predicted: 1\n",
      "Actual: 1  Predicted: 1\n",
      "Actual: 1  Predicted: 1\n",
      "Actual: 1  Predicted: 1\n"
     ]
    }
   ],
   "source": [
    "for row in data:\n",
    "    prediction=predict(row,wt)\n",
    "    print(f\"Actual: {round(row[-1])}  Predicted: {round(prediction)}\")"
   ]
  },
  {
   "cell_type": "code",
   "execution_count": null,
   "id": "a83eb4d8",
   "metadata": {},
   "outputs": [],
   "source": []
  }
 ],
 "metadata": {
  "kernelspec": {
   "display_name": "Python 3 (ipykernel)",
   "language": "python",
   "name": "python3"
  },
  "language_info": {
   "codemirror_mode": {
    "name": "ipython",
    "version": 3
   },
   "file_extension": ".py",
   "mimetype": "text/x-python",
   "name": "python",
   "nbconvert_exporter": "python",
   "pygments_lexer": "ipython3",
   "version": "3.11.4"
  }
 },
 "nbformat": 4,
 "nbformat_minor": 5
}
