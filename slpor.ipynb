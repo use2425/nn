{
  "cells": [
    {
      "cell_type": "code",
      "execution_count": 1,
      "id": "c9991b18-c1f8-4e39-823e-a7ae6424f586",
      "metadata": {
        "id": "c9991b18-c1f8-4e39-823e-a7ae6424f586"
      },
      "outputs": [],
      "source": [
        "import numpy as np\n",
        "inputs = np.array([[0,0,0],[0,1,1],[1,0,1],[1,1,1]])\n"
      ]
    },
    {
      "cell_type": "code",
      "execution_count": 2,
      "id": "2e1f72c0-7c83-4cc7-b5da-769d65b7320a",
      "metadata": {
        "id": "2e1f72c0-7c83-4cc7-b5da-769d65b7320a"
      },
      "outputs": [],
      "source": [
        "def pre(r,w):\n",
        "    act=w[0]\n",
        "    for i in range(len(r)-1):\n",
        "        act +=w[i+1]*r[i]\n",
        "    return 1 if act>=0 else 0"
      ]
    },
    {
      "cell_type": "code",
      "execution_count": 3,
      "id": "cc40fd39-d9a4-40c0-a08a-b68d60921b66",
      "metadata": {
        "colab": {
          "base_uri": "https://localhost:8080/"
        },
        "id": "cc40fd39-d9a4-40c0-a08a-b68d60921b66",
        "outputId": "1cb2c916-aa96-4d84-bf1f-bf7c62a0a8f5"
      },
      "outputs": [
        {
          "output_type": "stream",
          "name": "stdout",
          "text": [
            "> epoch=0,Learning=0.01,MSE=2\n",
            "> epoch=1,Learning=0.01,MSE=2\n",
            "> epoch=2,Learning=0.01,MSE=1\n",
            "> epoch=3,Learning=0.01,MSE=0\n",
            "> epoch=4,Learning=0.01,MSE=0\n"
          ]
        }
      ],
      "source": [
        "def td(train,lr,ep):\n",
        "    w=[0 for i in range(len(train)-1)]\n",
        "    for ec in range(ep):\n",
        "        sr=0\n",
        "        for r in train:\n",
        "            pr=pre(r,w)\n",
        "            er=r[-1]-pr\n",
        "            sr += er**2\n",
        "            w[0] +=lr*er\n",
        "            for i in range(len(r)-1):\n",
        "                w[i+1] +=lr*er*r[i]\n",
        "        print(f\"> epoch={ec},Learning={lr},MSE={sr}\")\n",
        "    return w\n",
        "lr=0.01\n",
        "ep=5\n",
        "w=td(inputs,lr,ep)\n"
      ]
    },
    {
      "cell_type": "code",
      "source": [
        "for r in inputs:\n",
        "    pr=pre(r,w)\n",
        "    print(f\"Actual {r[-1]} Prediction:{pr}\")\n"
      ],
      "metadata": {
        "id": "5rf7qJxxhgIf",
        "outputId": "b4ba155a-9d32-4a45-e633-895c897caa37",
        "colab": {
          "base_uri": "https://localhost:8080/"
        }
      },
      "id": "5rf7qJxxhgIf",
      "execution_count": 4,
      "outputs": [
        {
          "output_type": "stream",
          "name": "stdout",
          "text": [
            "Actual 0 Prediction:0\n",
            "Actual 1 Prediction:1\n",
            "Actual 1 Prediction:1\n",
            "Actual 1 Prediction:1\n"
          ]
        }
      ]
    }
  ],
  "metadata": {
    "kernelspec": {
      "display_name": "Python 3 (ipykernel)",
      "language": "python",
      "name": "python3"
    },
    "language_info": {
      "codemirror_mode": {
        "name": "ipython",
        "version": 3
      },
      "file_extension": ".py",
      "mimetype": "text/x-python",
      "name": "python",
      "nbconvert_exporter": "python",
      "pygments_lexer": "ipython3",
      "version": "3.11.5"
    },
    "colab": {
      "provenance": []
    }
  },
  "nbformat": 4,
  "nbformat_minor": 5
}
