{
 "cells": [
  {
   "cell_type": "code",
   "execution_count": 1,
   "id": "a6722aa9",
   "metadata": {},
   "outputs": [
    {
     "name": "stdout",
     "output_type": "stream",
     "text": [
      "Hamming-based CAM Match: 2\n",
      "CAM Match: No match\n"
     ]
    }
   ],
   "source": [
    "import numpy as np\n",
    "\n",
    "def cam_hamming(member_vector, search_vector):\n",
    "    member_vector = np.array([list(map(int, line)) for line in member_vector])\n",
    "    search_vector = np.array(list(map(int, search_vector)))\n",
    "    \n",
    "    min_distance = float('inf')\n",
    "    cam_result = None\n",
    "    \n",
    "    for idx, row in enumerate(member_vector):\n",
    "        distance = np.sum(row != search_vector)\n",
    "        if distance < min_distance:\n",
    "            min_distance = distance\n",
    "            cam_result = idx\n",
    "            \n",
    "    return cam_result\n",
    "\n",
    "def cam(member_vector, search_vector):\n",
    "    member_vector = np.array([list(map(int, line)) for line in member_vector])\n",
    "    search_vector = np.array(list(map(int, search_vector)))\n",
    "    \n",
    "    cam_result = None\n",
    "    \n",
    "    for idx, row in enumerate(member_vector):\n",
    "        if np.array_equal(row, search_vector):\n",
    "            cam_result = idx\n",
    "            break\n",
    "            \n",
    "    return cam_result\n",
    "\n",
    "# Example usage\n",
    "member_vector = [\"110000\", \"000011\", \"001100\"]\n",
    "search_vector = \"001000\"\n",
    "\n",
    "result_hamming = cam_hamming(member_vector, search_vector)\n",
    "result = cam(member_vector, search_vector)\n",
    "\n",
    "print(\"Hamming-based CAM Match:\", result_hamming if result_hamming is not None else \"No match\")\n",
    "print(\"CAM Match:\", result if result is not None else \"No match\")\n"
   ]
  }
 ],
 "metadata": {
  "kernelspec": {
   "display_name": "Python 3 (ipykernel)",
   "language": "python",
   "name": "python3"
  },
  "language_info": {
   "codemirror_mode": {
    "name": "ipython",
    "version": 3
   },
   "file_extension": ".py",
   "mimetype": "text/x-python",
   "name": "python",
   "nbconvert_exporter": "python",
   "pygments_lexer": "ipython3",
   "version": "3.11.4"
  }
 },
 "nbformat": 4,
 "nbformat_minor": 5
}
